{
  "cells": [
    {
      "cell_type": "markdown",
      "metadata": {
        "id": "view-in-github",
        "colab_type": "text"
      },
      "source": [
        "<a href=\"https://colab.research.google.com/github/Sohdjeukeu/Labo_GTI_720/blob/main/labo_1_01_G.ipynb\" target=\"_parent\"><img src=\"https://colab.research.google.com/assets/colab-badge.svg\" alt=\"Open In Colab\"/></a>"
      ]
    },
    {
      "cell_type": "markdown",
      "id": "8c891744-5658-453e-b9cc-5493a49992f4",
      "metadata": {
        "id": "8c891744-5658-453e-b9cc-5493a49992f4"
      },
      "source": [
        "## Description\n",
        "Le but de ce laboratoire est de vous familiariser aux enjeux de vie privée des données dépersonalisées et aggrégés ainsi qu'aux propriétés de k-anonymat et de l-diversité. On utilisera ici une version modifiée (contenant des `DCP`) du jeu de données [UCI Adult Income](https://archive.ics.uci.edu/ml/datasets/adult) contenant des informations démographiques du recensement américain de 1994. Ce laboratoire est réalisé avec Python et les librairies `pandas`, `numpy` et `matplotlib`."
      ]
    },
    {
      "cell_type": "code",
      "source": [
        "%pip install pyspark"
      ],
      "metadata": {
        "id": "mHtVas0Civxn",
        "colab": {
          "base_uri": "https://localhost:8080/"
        },
        "outputId": "b1cb5be1-f717-4f5d-d804-d3c53a097c77"
      },
      "id": "mHtVas0Civxn",
      "execution_count": 1,
      "outputs": [
        {
          "output_type": "stream",
          "name": "stdout",
          "text": [
            "Requirement already satisfied: pyspark in /usr/local/lib/python3.11/dist-packages (3.5.4)\n",
            "Requirement already satisfied: py4j==0.10.9.7 in /usr/local/lib/python3.11/dist-packages (from pyspark) (0.10.9.7)\n"
          ]
        }
      ]
    },
    {
      "cell_type": "code",
      "source": [
        "%pip --version # version du gestionnaire de package utlisée"
      ],
      "metadata": {
        "colab": {
          "base_uri": "https://localhost:8080/"
        },
        "id": "it8et3iHifUO",
        "outputId": "2dad4fb1-7862-45de-c7a8-d70397152fd5"
      },
      "id": "it8et3iHifUO",
      "execution_count": null,
      "outputs": [
        {
          "output_type": "stream",
          "name": "stdout",
          "text": [
            "pip 24.1.2 from /usr/local/lib/python3.11/dist-packages/pip (python 3.11)\n"
          ]
        }
      ]
    },
    {
      "cell_type": "markdown",
      "id": "4438230a-92c1-4438-adcd-bae93c85ead1",
      "metadata": {
        "id": "4438230a-92c1-4438-adcd-bae93c85ead1"
      },
      "source": [
        "## Partie 0: Installation de l'environement de travail (5pts)"
      ]
    },
    {
      "cell_type": "markdown",
      "id": "d36af591-f022-442b-a053-384db28795c0",
      "metadata": {
        "id": "d36af591-f022-442b-a053-384db28795c0"
      },
      "source": [
        "**Question 0** [5 pts]:\n",
        "- Installer `uv` en suivant cette [documentation](https://docs.astral.sh/uv/)\n",
        "- Utiliser `uv` pour installer `Python 3.13`\n",
        "- Installer les librairies suivantes dans votre environement virtuel local\n",
        "    - `pandas`\n",
        "    - `numpy`\n",
        "    - `matplotlib`"
      ]
    },
    {
      "cell_type": "markdown",
      "source": [
        "# importation des librairies"
      ],
      "metadata": {
        "id": "hwLKBf0VaNLp"
      },
      "id": "hwLKBf0VaNLp"
    },
    {
      "cell_type": "code",
      "source": [
        "import pandas as pd\n",
        "import numpy as np\n",
        "import matplotlib.pyplot as plt\n"
      ],
      "metadata": {
        "id": "caMFa3Z6jtXy"
      },
      "id": "caMFa3Z6jtXy",
      "execution_count": 2,
      "outputs": []
    },
    {
      "cell_type": "markdown",
      "id": "8776c2d1-722b-4e14-8b78-4b3f50f45bd4",
      "metadata": {
        "tags": [],
        "id": "8776c2d1-722b-4e14-8b78-4b3f50f45bd4"
      },
      "source": [
        "## Partie 1: Attaques ciblant un jeu de données dépersonalisées (31 pts)\n",
        "Un renseignement personnel est `dépersonnalisé` si ce dernier ne permet plus d’identifier *directement* la personne concernée. La dépersonilisation consiste donc à retirer les identifiants direct du jeu de données."
      ]
    },
    {
      "cell_type": "code",
      "execution_count": 3,
      "id": "2d680db0-67dd-43b9-b1c1-6e9df46f342e",
      "metadata": {
        "id": "2d680db0-67dd-43b9-b1c1-6e9df46f342e"
      },
      "outputs": [],
      "source": [
        "# importation du jeux de données\n",
        "adult = pd.read_csv('https://github.com/tisl-lab/data-privacy-class/blob/main/data/adult_with_pii.csv?raw=true')"
      ]
    },
    {
      "cell_type": "code",
      "execution_count": 4,
      "id": "939c0515-9e15-416a-a0b4-032b21d44ee4",
      "metadata": {
        "id": "939c0515-9e15-416a-a0b4-032b21d44ee4",
        "outputId": "e57a4083-e0c7-41ae-d641-713b3ef098c3",
        "colab": {
          "base_uri": "https://localhost:8080/",
          "height": 310
        }
      },
      "outputs": [
        {
          "output_type": "execute_result",
          "data": {
            "text/plain": [
              "               Name        DOB          SSN    Zip  Age         Workclass  \\\n",
              "0  Karrie Trusslove   9/7/1967  732-14-6110  64152   39         State-gov   \n",
              "1  Brandise Tripony   6/7/1988  150-19-2766  61523   50  Self-emp-not-inc   \n",
              "2     Brenn McNeely   8/6/1991  725-59-9860  95668   38           Private   \n",
              "3       Dorry Poter   4/6/2009  659-57-4974  25503   53           Private   \n",
              "4       Dick Honnan  9/16/1951  220-93-3811  75387   28           Private   \n",
              "\n",
              "   fnlwgt  Education  Education-Num      Marital Status         Occupation  \\\n",
              "0   77516  Bachelors             13       Never-married       Adm-clerical   \n",
              "1   83311  Bachelors             13  Married-civ-spouse    Exec-managerial   \n",
              "2  215646    HS-grad              9            Divorced  Handlers-cleaners   \n",
              "3  234721       11th              7  Married-civ-spouse  Handlers-cleaners   \n",
              "4  338409  Bachelors             13  Married-civ-spouse     Prof-specialty   \n",
              "\n",
              "    Relationship   Race     Sex  Capital Gain  Capital Loss  Hours per week  \\\n",
              "0  Not-in-family  White    Male          2174             0              40   \n",
              "1        Husband  White    Male             0             0              13   \n",
              "2  Not-in-family  White    Male             0             0              40   \n",
              "3        Husband  Black    Male             0             0              40   \n",
              "4           Wife  Black  Female             0             0              40   \n",
              "\n",
              "         Country Target  \n",
              "0  United-States  <=50K  \n",
              "1  United-States  <=50K  \n",
              "2  United-States  <=50K  \n",
              "3  United-States  <=50K  \n",
              "4           Cuba  <=50K  "
            ],
            "text/html": [
              "\n",
              "  <div id=\"df-8e3f6758-430e-4f17-bdb5-f82b886f5b39\" class=\"colab-df-container\">\n",
              "    <div>\n",
              "<style scoped>\n",
              "    .dataframe tbody tr th:only-of-type {\n",
              "        vertical-align: middle;\n",
              "    }\n",
              "\n",
              "    .dataframe tbody tr th {\n",
              "        vertical-align: top;\n",
              "    }\n",
              "\n",
              "    .dataframe thead th {\n",
              "        text-align: right;\n",
              "    }\n",
              "</style>\n",
              "<table border=\"1\" class=\"dataframe\">\n",
              "  <thead>\n",
              "    <tr style=\"text-align: right;\">\n",
              "      <th></th>\n",
              "      <th>Name</th>\n",
              "      <th>DOB</th>\n",
              "      <th>SSN</th>\n",
              "      <th>Zip</th>\n",
              "      <th>Age</th>\n",
              "      <th>Workclass</th>\n",
              "      <th>fnlwgt</th>\n",
              "      <th>Education</th>\n",
              "      <th>Education-Num</th>\n",
              "      <th>Marital Status</th>\n",
              "      <th>Occupation</th>\n",
              "      <th>Relationship</th>\n",
              "      <th>Race</th>\n",
              "      <th>Sex</th>\n",
              "      <th>Capital Gain</th>\n",
              "      <th>Capital Loss</th>\n",
              "      <th>Hours per week</th>\n",
              "      <th>Country</th>\n",
              "      <th>Target</th>\n",
              "    </tr>\n",
              "  </thead>\n",
              "  <tbody>\n",
              "    <tr>\n",
              "      <th>0</th>\n",
              "      <td>Karrie Trusslove</td>\n",
              "      <td>9/7/1967</td>\n",
              "      <td>732-14-6110</td>\n",
              "      <td>64152</td>\n",
              "      <td>39</td>\n",
              "      <td>State-gov</td>\n",
              "      <td>77516</td>\n",
              "      <td>Bachelors</td>\n",
              "      <td>13</td>\n",
              "      <td>Never-married</td>\n",
              "      <td>Adm-clerical</td>\n",
              "      <td>Not-in-family</td>\n",
              "      <td>White</td>\n",
              "      <td>Male</td>\n",
              "      <td>2174</td>\n",
              "      <td>0</td>\n",
              "      <td>40</td>\n",
              "      <td>United-States</td>\n",
              "      <td>&lt;=50K</td>\n",
              "    </tr>\n",
              "    <tr>\n",
              "      <th>1</th>\n",
              "      <td>Brandise Tripony</td>\n",
              "      <td>6/7/1988</td>\n",
              "      <td>150-19-2766</td>\n",
              "      <td>61523</td>\n",
              "      <td>50</td>\n",
              "      <td>Self-emp-not-inc</td>\n",
              "      <td>83311</td>\n",
              "      <td>Bachelors</td>\n",
              "      <td>13</td>\n",
              "      <td>Married-civ-spouse</td>\n",
              "      <td>Exec-managerial</td>\n",
              "      <td>Husband</td>\n",
              "      <td>White</td>\n",
              "      <td>Male</td>\n",
              "      <td>0</td>\n",
              "      <td>0</td>\n",
              "      <td>13</td>\n",
              "      <td>United-States</td>\n",
              "      <td>&lt;=50K</td>\n",
              "    </tr>\n",
              "    <tr>\n",
              "      <th>2</th>\n",
              "      <td>Brenn McNeely</td>\n",
              "      <td>8/6/1991</td>\n",
              "      <td>725-59-9860</td>\n",
              "      <td>95668</td>\n",
              "      <td>38</td>\n",
              "      <td>Private</td>\n",
              "      <td>215646</td>\n",
              "      <td>HS-grad</td>\n",
              "      <td>9</td>\n",
              "      <td>Divorced</td>\n",
              "      <td>Handlers-cleaners</td>\n",
              "      <td>Not-in-family</td>\n",
              "      <td>White</td>\n",
              "      <td>Male</td>\n",
              "      <td>0</td>\n",
              "      <td>0</td>\n",
              "      <td>40</td>\n",
              "      <td>United-States</td>\n",
              "      <td>&lt;=50K</td>\n",
              "    </tr>\n",
              "    <tr>\n",
              "      <th>3</th>\n",
              "      <td>Dorry Poter</td>\n",
              "      <td>4/6/2009</td>\n",
              "      <td>659-57-4974</td>\n",
              "      <td>25503</td>\n",
              "      <td>53</td>\n",
              "      <td>Private</td>\n",
              "      <td>234721</td>\n",
              "      <td>11th</td>\n",
              "      <td>7</td>\n",
              "      <td>Married-civ-spouse</td>\n",
              "      <td>Handlers-cleaners</td>\n",
              "      <td>Husband</td>\n",
              "      <td>Black</td>\n",
              "      <td>Male</td>\n",
              "      <td>0</td>\n",
              "      <td>0</td>\n",
              "      <td>40</td>\n",
              "      <td>United-States</td>\n",
              "      <td>&lt;=50K</td>\n",
              "    </tr>\n",
              "    <tr>\n",
              "      <th>4</th>\n",
              "      <td>Dick Honnan</td>\n",
              "      <td>9/16/1951</td>\n",
              "      <td>220-93-3811</td>\n",
              "      <td>75387</td>\n",
              "      <td>28</td>\n",
              "      <td>Private</td>\n",
              "      <td>338409</td>\n",
              "      <td>Bachelors</td>\n",
              "      <td>13</td>\n",
              "      <td>Married-civ-spouse</td>\n",
              "      <td>Prof-specialty</td>\n",
              "      <td>Wife</td>\n",
              "      <td>Black</td>\n",
              "      <td>Female</td>\n",
              "      <td>0</td>\n",
              "      <td>0</td>\n",
              "      <td>40</td>\n",
              "      <td>Cuba</td>\n",
              "      <td>&lt;=50K</td>\n",
              "    </tr>\n",
              "  </tbody>\n",
              "</table>\n",
              "</div>\n",
              "    <div class=\"colab-df-buttons\">\n",
              "\n",
              "  <div class=\"colab-df-container\">\n",
              "    <button class=\"colab-df-convert\" onclick=\"convertToInteractive('df-8e3f6758-430e-4f17-bdb5-f82b886f5b39')\"\n",
              "            title=\"Convert this dataframe to an interactive table.\"\n",
              "            style=\"display:none;\">\n",
              "\n",
              "  <svg xmlns=\"http://www.w3.org/2000/svg\" height=\"24px\" viewBox=\"0 -960 960 960\">\n",
              "    <path d=\"M120-120v-720h720v720H120Zm60-500h600v-160H180v160Zm220 220h160v-160H400v160Zm0 220h160v-160H400v160ZM180-400h160v-160H180v160Zm440 0h160v-160H620v160ZM180-180h160v-160H180v160Zm440 0h160v-160H620v160Z\"/>\n",
              "  </svg>\n",
              "    </button>\n",
              "\n",
              "  <style>\n",
              "    .colab-df-container {\n",
              "      display:flex;\n",
              "      gap: 12px;\n",
              "    }\n",
              "\n",
              "    .colab-df-convert {\n",
              "      background-color: #E8F0FE;\n",
              "      border: none;\n",
              "      border-radius: 50%;\n",
              "      cursor: pointer;\n",
              "      display: none;\n",
              "      fill: #1967D2;\n",
              "      height: 32px;\n",
              "      padding: 0 0 0 0;\n",
              "      width: 32px;\n",
              "    }\n",
              "\n",
              "    .colab-df-convert:hover {\n",
              "      background-color: #E2EBFA;\n",
              "      box-shadow: 0px 1px 2px rgba(60, 64, 67, 0.3), 0px 1px 3px 1px rgba(60, 64, 67, 0.15);\n",
              "      fill: #174EA6;\n",
              "    }\n",
              "\n",
              "    .colab-df-buttons div {\n",
              "      margin-bottom: 4px;\n",
              "    }\n",
              "\n",
              "    [theme=dark] .colab-df-convert {\n",
              "      background-color: #3B4455;\n",
              "      fill: #D2E3FC;\n",
              "    }\n",
              "\n",
              "    [theme=dark] .colab-df-convert:hover {\n",
              "      background-color: #434B5C;\n",
              "      box-shadow: 0px 1px 3px 1px rgba(0, 0, 0, 0.15);\n",
              "      filter: drop-shadow(0px 1px 2px rgba(0, 0, 0, 0.3));\n",
              "      fill: #FFFFFF;\n",
              "    }\n",
              "  </style>\n",
              "\n",
              "    <script>\n",
              "      const buttonEl =\n",
              "        document.querySelector('#df-8e3f6758-430e-4f17-bdb5-f82b886f5b39 button.colab-df-convert');\n",
              "      buttonEl.style.display =\n",
              "        google.colab.kernel.accessAllowed ? 'block' : 'none';\n",
              "\n",
              "      async function convertToInteractive(key) {\n",
              "        const element = document.querySelector('#df-8e3f6758-430e-4f17-bdb5-f82b886f5b39');\n",
              "        const dataTable =\n",
              "          await google.colab.kernel.invokeFunction('convertToInteractive',\n",
              "                                                    [key], {});\n",
              "        if (!dataTable) return;\n",
              "\n",
              "        const docLinkHtml = 'Like what you see? Visit the ' +\n",
              "          '<a target=\"_blank\" href=https://colab.research.google.com/notebooks/data_table.ipynb>data table notebook</a>'\n",
              "          + ' to learn more about interactive tables.';\n",
              "        element.innerHTML = '';\n",
              "        dataTable['output_type'] = 'display_data';\n",
              "        await google.colab.output.renderOutput(dataTable, element);\n",
              "        const docLink = document.createElement('div');\n",
              "        docLink.innerHTML = docLinkHtml;\n",
              "        element.appendChild(docLink);\n",
              "      }\n",
              "    </script>\n",
              "  </div>\n",
              "\n",
              "\n",
              "<div id=\"df-e0562ce0-a5bf-44f0-bf13-1e383a290f71\">\n",
              "  <button class=\"colab-df-quickchart\" onclick=\"quickchart('df-e0562ce0-a5bf-44f0-bf13-1e383a290f71')\"\n",
              "            title=\"Suggest charts\"\n",
              "            style=\"display:none;\">\n",
              "\n",
              "<svg xmlns=\"http://www.w3.org/2000/svg\" height=\"24px\"viewBox=\"0 0 24 24\"\n",
              "     width=\"24px\">\n",
              "    <g>\n",
              "        <path d=\"M19 3H5c-1.1 0-2 .9-2 2v14c0 1.1.9 2 2 2h14c1.1 0 2-.9 2-2V5c0-1.1-.9-2-2-2zM9 17H7v-7h2v7zm4 0h-2V7h2v10zm4 0h-2v-4h2v4z\"/>\n",
              "    </g>\n",
              "</svg>\n",
              "  </button>\n",
              "\n",
              "<style>\n",
              "  .colab-df-quickchart {\n",
              "      --bg-color: #E8F0FE;\n",
              "      --fill-color: #1967D2;\n",
              "      --hover-bg-color: #E2EBFA;\n",
              "      --hover-fill-color: #174EA6;\n",
              "      --disabled-fill-color: #AAA;\n",
              "      --disabled-bg-color: #DDD;\n",
              "  }\n",
              "\n",
              "  [theme=dark] .colab-df-quickchart {\n",
              "      --bg-color: #3B4455;\n",
              "      --fill-color: #D2E3FC;\n",
              "      --hover-bg-color: #434B5C;\n",
              "      --hover-fill-color: #FFFFFF;\n",
              "      --disabled-bg-color: #3B4455;\n",
              "      --disabled-fill-color: #666;\n",
              "  }\n",
              "\n",
              "  .colab-df-quickchart {\n",
              "    background-color: var(--bg-color);\n",
              "    border: none;\n",
              "    border-radius: 50%;\n",
              "    cursor: pointer;\n",
              "    display: none;\n",
              "    fill: var(--fill-color);\n",
              "    height: 32px;\n",
              "    padding: 0;\n",
              "    width: 32px;\n",
              "  }\n",
              "\n",
              "  .colab-df-quickchart:hover {\n",
              "    background-color: var(--hover-bg-color);\n",
              "    box-shadow: 0 1px 2px rgba(60, 64, 67, 0.3), 0 1px 3px 1px rgba(60, 64, 67, 0.15);\n",
              "    fill: var(--button-hover-fill-color);\n",
              "  }\n",
              "\n",
              "  .colab-df-quickchart-complete:disabled,\n",
              "  .colab-df-quickchart-complete:disabled:hover {\n",
              "    background-color: var(--disabled-bg-color);\n",
              "    fill: var(--disabled-fill-color);\n",
              "    box-shadow: none;\n",
              "  }\n",
              "\n",
              "  .colab-df-spinner {\n",
              "    border: 2px solid var(--fill-color);\n",
              "    border-color: transparent;\n",
              "    border-bottom-color: var(--fill-color);\n",
              "    animation:\n",
              "      spin 1s steps(1) infinite;\n",
              "  }\n",
              "\n",
              "  @keyframes spin {\n",
              "    0% {\n",
              "      border-color: transparent;\n",
              "      border-bottom-color: var(--fill-color);\n",
              "      border-left-color: var(--fill-color);\n",
              "    }\n",
              "    20% {\n",
              "      border-color: transparent;\n",
              "      border-left-color: var(--fill-color);\n",
              "      border-top-color: var(--fill-color);\n",
              "    }\n",
              "    30% {\n",
              "      border-color: transparent;\n",
              "      border-left-color: var(--fill-color);\n",
              "      border-top-color: var(--fill-color);\n",
              "      border-right-color: var(--fill-color);\n",
              "    }\n",
              "    40% {\n",
              "      border-color: transparent;\n",
              "      border-right-color: var(--fill-color);\n",
              "      border-top-color: var(--fill-color);\n",
              "    }\n",
              "    60% {\n",
              "      border-color: transparent;\n",
              "      border-right-color: var(--fill-color);\n",
              "    }\n",
              "    80% {\n",
              "      border-color: transparent;\n",
              "      border-right-color: var(--fill-color);\n",
              "      border-bottom-color: var(--fill-color);\n",
              "    }\n",
              "    90% {\n",
              "      border-color: transparent;\n",
              "      border-bottom-color: var(--fill-color);\n",
              "    }\n",
              "  }\n",
              "</style>\n",
              "\n",
              "  <script>\n",
              "    async function quickchart(key) {\n",
              "      const quickchartButtonEl =\n",
              "        document.querySelector('#' + key + ' button');\n",
              "      quickchartButtonEl.disabled = true;  // To prevent multiple clicks.\n",
              "      quickchartButtonEl.classList.add('colab-df-spinner');\n",
              "      try {\n",
              "        const charts = await google.colab.kernel.invokeFunction(\n",
              "            'suggestCharts', [key], {});\n",
              "      } catch (error) {\n",
              "        console.error('Error during call to suggestCharts:', error);\n",
              "      }\n",
              "      quickchartButtonEl.classList.remove('colab-df-spinner');\n",
              "      quickchartButtonEl.classList.add('colab-df-quickchart-complete');\n",
              "    }\n",
              "    (() => {\n",
              "      let quickchartButtonEl =\n",
              "        document.querySelector('#df-e0562ce0-a5bf-44f0-bf13-1e383a290f71 button');\n",
              "      quickchartButtonEl.style.display =\n",
              "        google.colab.kernel.accessAllowed ? 'block' : 'none';\n",
              "    })();\n",
              "  </script>\n",
              "</div>\n",
              "\n",
              "    </div>\n",
              "  </div>\n"
            ],
            "application/vnd.google.colaboratory.intrinsic+json": {
              "type": "dataframe",
              "variable_name": "adult",
              "summary": "{\n  \"name\": \"adult\",\n  \"rows\": 32561,\n  \"fields\": [\n    {\n      \"column\": \"Name\",\n      \"properties\": {\n        \"dtype\": \"string\",\n        \"num_unique_values\": 32561,\n        \"samples\": [\n          \"Cherin Lorey\",\n          \"Marni Guilloton\",\n          \"Lowrance Chaucer\"\n        ],\n        \"semantic_type\": \"\",\n        \"description\": \"\"\n      }\n    },\n    {\n      \"column\": \"DOB\",\n      \"properties\": {\n        \"dtype\": \"object\",\n        \"num_unique_values\": 17309,\n        \"samples\": [\n          \"10/19/1965\",\n          \"1/4/1992\",\n          \"9/25/1990\"\n        ],\n        \"semantic_type\": \"\",\n        \"description\": \"\"\n      }\n    },\n    {\n      \"column\": \"SSN\",\n      \"properties\": {\n        \"dtype\": \"string\",\n        \"num_unique_values\": 32560,\n        \"samples\": [\n          \"231-97-1124\",\n          \"876-66-1917\",\n          \"608-09-2960\"\n        ],\n        \"semantic_type\": \"\",\n        \"description\": \"\"\n      }\n    },\n    {\n      \"column\": \"Zip\",\n      \"properties\": {\n        \"dtype\": \"number\",\n        \"std\": 28939,\n        \"min\": 4,\n        \"max\": 99999,\n        \"num_unique_values\": 27791,\n        \"samples\": [\n          14912,\n          85585,\n          48446\n        ],\n        \"semantic_type\": \"\",\n        \"description\": \"\"\n      }\n    },\n    {\n      \"column\": \"Age\",\n      \"properties\": {\n        \"dtype\": \"number\",\n        \"std\": 13,\n        \"min\": 17,\n        \"max\": 90,\n        \"num_unique_values\": 73,\n        \"samples\": [\n          28,\n          73,\n          35\n        ],\n        \"semantic_type\": \"\",\n        \"description\": \"\"\n      }\n    },\n    {\n      \"column\": \"Workclass\",\n      \"properties\": {\n        \"dtype\": \"category\",\n        \"num_unique_values\": 8,\n        \"samples\": [\n          \"Self-emp-not-inc\",\n          \"Self-emp-inc\",\n          \"State-gov\"\n        ],\n        \"semantic_type\": \"\",\n        \"description\": \"\"\n      }\n    },\n    {\n      \"column\": \"fnlwgt\",\n      \"properties\": {\n        \"dtype\": \"number\",\n        \"std\": 105549,\n        \"min\": 12285,\n        \"max\": 1484705,\n        \"num_unique_values\": 21648,\n        \"samples\": [\n          128485,\n          469907,\n          235951\n        ],\n        \"semantic_type\": \"\",\n        \"description\": \"\"\n      }\n    },\n    {\n      \"column\": \"Education\",\n      \"properties\": {\n        \"dtype\": \"category\",\n        \"num_unique_values\": 16,\n        \"samples\": [\n          \"Bachelors\",\n          \"HS-grad\",\n          \"Some-college\"\n        ],\n        \"semantic_type\": \"\",\n        \"description\": \"\"\n      }\n    },\n    {\n      \"column\": \"Education-Num\",\n      \"properties\": {\n        \"dtype\": \"number\",\n        \"std\": 2,\n        \"min\": 1,\n        \"max\": 16,\n        \"num_unique_values\": 16,\n        \"samples\": [\n          13,\n          9,\n          10\n        ],\n        \"semantic_type\": \"\",\n        \"description\": \"\"\n      }\n    },\n    {\n      \"column\": \"Marital Status\",\n      \"properties\": {\n        \"dtype\": \"category\",\n        \"num_unique_values\": 7,\n        \"samples\": [\n          \"Never-married\",\n          \"Married-civ-spouse\",\n          \"Married-AF-spouse\"\n        ],\n        \"semantic_type\": \"\",\n        \"description\": \"\"\n      }\n    },\n    {\n      \"column\": \"Occupation\",\n      \"properties\": {\n        \"dtype\": \"category\",\n        \"num_unique_values\": 14,\n        \"samples\": [\n          \"Machine-op-inspct\",\n          \"Protective-serv\",\n          \"Adm-clerical\"\n        ],\n        \"semantic_type\": \"\",\n        \"description\": \"\"\n      }\n    },\n    {\n      \"column\": \"Relationship\",\n      \"properties\": {\n        \"dtype\": \"category\",\n        \"num_unique_values\": 6,\n        \"samples\": [\n          \"Not-in-family\",\n          \"Husband\",\n          \"Other-relative\"\n        ],\n        \"semantic_type\": \"\",\n        \"description\": \"\"\n      }\n    },\n    {\n      \"column\": \"Race\",\n      \"properties\": {\n        \"dtype\": \"category\",\n        \"num_unique_values\": 5,\n        \"samples\": [\n          \"Black\",\n          \"Other\",\n          \"Asian-Pac-Islander\"\n        ],\n        \"semantic_type\": \"\",\n        \"description\": \"\"\n      }\n    },\n    {\n      \"column\": \"Sex\",\n      \"properties\": {\n        \"dtype\": \"category\",\n        \"num_unique_values\": 2,\n        \"samples\": [\n          \"Female\",\n          \"Male\"\n        ],\n        \"semantic_type\": \"\",\n        \"description\": \"\"\n      }\n    },\n    {\n      \"column\": \"Capital Gain\",\n      \"properties\": {\n        \"dtype\": \"number\",\n        \"std\": 7385,\n        \"min\": 0,\n        \"max\": 99999,\n        \"num_unique_values\": 119,\n        \"samples\": [\n          3781,\n          15831\n        ],\n        \"semantic_type\": \"\",\n        \"description\": \"\"\n      }\n    },\n    {\n      \"column\": \"Capital Loss\",\n      \"properties\": {\n        \"dtype\": \"number\",\n        \"std\": 402,\n        \"min\": 0,\n        \"max\": 4356,\n        \"num_unique_values\": 92,\n        \"samples\": [\n          419,\n          2051\n        ],\n        \"semantic_type\": \"\",\n        \"description\": \"\"\n      }\n    },\n    {\n      \"column\": \"Hours per week\",\n      \"properties\": {\n        \"dtype\": \"number\",\n        \"std\": 12,\n        \"min\": 1,\n        \"max\": 99,\n        \"num_unique_values\": 94,\n        \"samples\": [\n          6,\n          22\n        ],\n        \"semantic_type\": \"\",\n        \"description\": \"\"\n      }\n    },\n    {\n      \"column\": \"Country\",\n      \"properties\": {\n        \"dtype\": \"category\",\n        \"num_unique_values\": 41,\n        \"samples\": [\n          \"El-Salvador\",\n          \"Italy\"\n        ],\n        \"semantic_type\": \"\",\n        \"description\": \"\"\n      }\n    },\n    {\n      \"column\": \"Target\",\n      \"properties\": {\n        \"dtype\": \"category\",\n        \"num_unique_values\": 2,\n        \"samples\": [\n          \">50K\",\n          \"<=50K\"\n        ],\n        \"semantic_type\": \"\",\n        \"description\": \"\"\n      }\n    }\n  ]\n}"
            }
          },
          "metadata": {},
          "execution_count": 4
        }
      ],
      "source": [
        "# affichache des 5 premières lignes du jeux de données\n",
        "adult.head(5)"
      ]
    },
    {
      "cell_type": "markdown",
      "id": "245a04be-45c2-4497-bd30-d596f6c33819",
      "metadata": {
        "id": "245a04be-45c2-4497-bd30-d596f6c33819"
      },
      "source": [
        "**Question 1** [3 pts]: Identifier les `identifiants directs` de ce jeu de données. Justifier pourquoi vous avez choisis ces attributs.\n",
        "Conseils: Référer vous à la définition de donnée à caractère personnel définie dans le cours 1."
      ]
    },
    {
      "cell_type": "code",
      "source": [
        "if isinstance(adult, pd.DataFrame):\n",
        "    print(\"C'est un DataFrame\")\n",
        "else:\n",
        "    print(\"Ce n'est pas un DataFrame\")"
      ],
      "metadata": {
        "colab": {
          "base_uri": "https://localhost:8080/"
        },
        "id": "RvLK3vXwbO5f",
        "outputId": "5cc1da0e-7840-48e4-9d58-416e104fbc5b"
      },
      "id": "RvLK3vXwbO5f",
      "execution_count": 5,
      "outputs": [
        {
          "output_type": "stream",
          "name": "stdout",
          "text": [
            "C'est un DataFrame\n"
          ]
        }
      ]
    },
    {
      "cell_type": "markdown",
      "source": [
        "# Vérifier les doublons pour chaque colonne"
      ],
      "metadata": {
        "id": "veXU5e-3EYDa"
      },
      "id": "veXU5e-3EYDa"
    },
    {
      "cell_type": "code",
      "source": [
        "df = adult\n",
        "\n",
        "colonne_sans_doublon = []\n",
        "colonne_sans_doublon.clear()\n",
        "\n",
        "for colonne in df.columns:\n",
        "  if not df[colonne].duplicated(keep=False).any():\n",
        "    colonne_sans_doublon.append(colonne)\n",
        "colonne_sans_doublon"
      ],
      "metadata": {
        "colab": {
          "base_uri": "https://localhost:8080/"
        },
        "id": "VYZ6RRiXEMHI",
        "outputId": "11f69e99-f382-4418-e69f-88f706ec4a3f"
      },
      "id": "VYZ6RRiXEMHI",
      "execution_count": 7,
      "outputs": [
        {
          "output_type": "execute_result",
          "data": {
            "text/plain": [
              "['Name']"
            ]
          },
          "metadata": {},
          "execution_count": 7
        }
      ]
    },
    {
      "cell_type": "markdown",
      "source": [
        "D'après le code ci-dessus, on voit qu'il n'y a que la métadonnée Name qui est unique et représente le seul identifiant direct: ## Name\n",
        "\n",
        "\n"
      ],
      "metadata": {
        "id": "17QINLVSxpjJ"
      },
      "id": "17QINLVSxpjJ"
    },
    {
      "cell_type": "markdown",
      "id": "842a3364-a68c-42e0-8f9c-b5b1d26e45d7",
      "metadata": {
        "id": "842a3364-a68c-42e0-8f9c-b5b1d26e45d7"
      },
      "source": [
        "**Question 2** [5 pts]: A l'aide de ces `identifiants directs`, construire la version dépersonalisée de ce jeu de données."
      ]
    },
    {
      "cell_type": "markdown",
      "source": [
        "Elle va consister à réduire le risque d'identifier directement une personne et dansce contexte précis, la metadonnée Name a des valeurs unique et il permet d'identifier directement une personne.Nous allons donc supprimer la metadonée Name pour depersonnaliser le jeu de données adult."
      ],
      "metadata": {
        "id": "5skfac-L1C7P"
      },
      "id": "5skfac-L1C7P"
    },
    {
      "cell_type": "code",
      "source": [
        "#df_copy.drop(labels='Name', axis=1)"
      ],
      "metadata": {
        "id": "UDBrriOl3F-R"
      },
      "id": "UDBrriOl3F-R",
      "execution_count": 8,
      "outputs": []
    },
    {
      "cell_type": "code",
      "execution_count": 9,
      "id": "321e1363-a36b-4b13-8c12-673ddbf470d7",
      "metadata": {
        "id": "321e1363-a36b-4b13-8c12-673ddbf470d7"
      },
      "outputs": [],
      "source": [
        "def depersonaliser_adult():\n",
        "    #VOTRE CODE ICI\n",
        "    df_A_depersonnaliser = adult.copy()\n",
        "    df_A_depersonnaliser.drop(labels='Name', axis=1,inplace=True)\n",
        "    return df_A_depersonnaliser"
      ]
    },
    {
      "cell_type": "code",
      "source": [
        "# Appel de la methode depersonaliser_adult() pour afficher la dataset adult sans son identifiant direct Name\n",
        "depersonaliser_adult()\n"
      ],
      "metadata": {
        "colab": {
          "base_uri": "https://localhost:8080/",
          "height": 615
        },
        "id": "i_7VMBHT7oOO",
        "outputId": "8386c218-645e-4468-9439-ca3700d65d72"
      },
      "id": "i_7VMBHT7oOO",
      "execution_count": 11,
      "outputs": [
        {
          "output_type": "execute_result",
          "data": {
            "text/plain": [
              "              DOB          SSN    Zip  Age         Workclass  fnlwgt  \\\n",
              "0        9/7/1967  732-14-6110  64152   39         State-gov   77516   \n",
              "1        6/7/1988  150-19-2766  61523   50  Self-emp-not-inc   83311   \n",
              "2        8/6/1991  725-59-9860  95668   38           Private  215646   \n",
              "3        4/6/2009  659-57-4974  25503   53           Private  234721   \n",
              "4       9/16/1951  220-93-3811  75387   28           Private  338409   \n",
              "...           ...          ...    ...  ...               ...     ...   \n",
              "32556  10/29/1961  212-61-8338  41328   27           Private  257302   \n",
              "32557   6/28/1952  737-32-2919  94735   40           Private  154374   \n",
              "32558    8/9/1966  314-48-0219  49628   58           Private  151910   \n",
              "32559   5/19/1978  647-75-3550   8213   22           Private  201490   \n",
              "32560   5/11/2012  690-42-5638  86153   52      Self-emp-inc  287927   \n",
              "\n",
              "        Education  Education-Num      Marital Status         Occupation  \\\n",
              "0       Bachelors             13       Never-married       Adm-clerical   \n",
              "1       Bachelors             13  Married-civ-spouse    Exec-managerial   \n",
              "2         HS-grad              9            Divorced  Handlers-cleaners   \n",
              "3            11th              7  Married-civ-spouse  Handlers-cleaners   \n",
              "4       Bachelors             13  Married-civ-spouse     Prof-specialty   \n",
              "...           ...            ...                 ...                ...   \n",
              "32556  Assoc-acdm             12  Married-civ-spouse       Tech-support   \n",
              "32557     HS-grad              9  Married-civ-spouse  Machine-op-inspct   \n",
              "32558     HS-grad              9             Widowed       Adm-clerical   \n",
              "32559     HS-grad              9       Never-married       Adm-clerical   \n",
              "32560     HS-grad              9  Married-civ-spouse    Exec-managerial   \n",
              "\n",
              "        Relationship   Race     Sex  Capital Gain  Capital Loss  \\\n",
              "0      Not-in-family  White    Male          2174             0   \n",
              "1            Husband  White    Male             0             0   \n",
              "2      Not-in-family  White    Male             0             0   \n",
              "3            Husband  Black    Male             0             0   \n",
              "4               Wife  Black  Female             0             0   \n",
              "...              ...    ...     ...           ...           ...   \n",
              "32556           Wife  White  Female             0             0   \n",
              "32557        Husband  White    Male             0             0   \n",
              "32558      Unmarried  White  Female             0             0   \n",
              "32559      Own-child  White    Male             0             0   \n",
              "32560           Wife  White  Female         15024             0   \n",
              "\n",
              "       Hours per week        Country Target  \n",
              "0                  40  United-States  <=50K  \n",
              "1                  13  United-States  <=50K  \n",
              "2                  40  United-States  <=50K  \n",
              "3                  40  United-States  <=50K  \n",
              "4                  40           Cuba  <=50K  \n",
              "...               ...            ...    ...  \n",
              "32556              38  United-States  <=50K  \n",
              "32557              40  United-States   >50K  \n",
              "32558              40  United-States  <=50K  \n",
              "32559              20  United-States  <=50K  \n",
              "32560              40  United-States   >50K  \n",
              "\n",
              "[32561 rows x 18 columns]"
            ],
            "text/html": [
              "\n",
              "  <div id=\"df-201e1d01-ed2c-4794-86aa-309c839e0303\" class=\"colab-df-container\">\n",
              "    <div>\n",
              "<style scoped>\n",
              "    .dataframe tbody tr th:only-of-type {\n",
              "        vertical-align: middle;\n",
              "    }\n",
              "\n",
              "    .dataframe tbody tr th {\n",
              "        vertical-align: top;\n",
              "    }\n",
              "\n",
              "    .dataframe thead th {\n",
              "        text-align: right;\n",
              "    }\n",
              "</style>\n",
              "<table border=\"1\" class=\"dataframe\">\n",
              "  <thead>\n",
              "    <tr style=\"text-align: right;\">\n",
              "      <th></th>\n",
              "      <th>DOB</th>\n",
              "      <th>SSN</th>\n",
              "      <th>Zip</th>\n",
              "      <th>Age</th>\n",
              "      <th>Workclass</th>\n",
              "      <th>fnlwgt</th>\n",
              "      <th>Education</th>\n",
              "      <th>Education-Num</th>\n",
              "      <th>Marital Status</th>\n",
              "      <th>Occupation</th>\n",
              "      <th>Relationship</th>\n",
              "      <th>Race</th>\n",
              "      <th>Sex</th>\n",
              "      <th>Capital Gain</th>\n",
              "      <th>Capital Loss</th>\n",
              "      <th>Hours per week</th>\n",
              "      <th>Country</th>\n",
              "      <th>Target</th>\n",
              "    </tr>\n",
              "  </thead>\n",
              "  <tbody>\n",
              "    <tr>\n",
              "      <th>0</th>\n",
              "      <td>9/7/1967</td>\n",
              "      <td>732-14-6110</td>\n",
              "      <td>64152</td>\n",
              "      <td>39</td>\n",
              "      <td>State-gov</td>\n",
              "      <td>77516</td>\n",
              "      <td>Bachelors</td>\n",
              "      <td>13</td>\n",
              "      <td>Never-married</td>\n",
              "      <td>Adm-clerical</td>\n",
              "      <td>Not-in-family</td>\n",
              "      <td>White</td>\n",
              "      <td>Male</td>\n",
              "      <td>2174</td>\n",
              "      <td>0</td>\n",
              "      <td>40</td>\n",
              "      <td>United-States</td>\n",
              "      <td>&lt;=50K</td>\n",
              "    </tr>\n",
              "    <tr>\n",
              "      <th>1</th>\n",
              "      <td>6/7/1988</td>\n",
              "      <td>150-19-2766</td>\n",
              "      <td>61523</td>\n",
              "      <td>50</td>\n",
              "      <td>Self-emp-not-inc</td>\n",
              "      <td>83311</td>\n",
              "      <td>Bachelors</td>\n",
              "      <td>13</td>\n",
              "      <td>Married-civ-spouse</td>\n",
              "      <td>Exec-managerial</td>\n",
              "      <td>Husband</td>\n",
              "      <td>White</td>\n",
              "      <td>Male</td>\n",
              "      <td>0</td>\n",
              "      <td>0</td>\n",
              "      <td>13</td>\n",
              "      <td>United-States</td>\n",
              "      <td>&lt;=50K</td>\n",
              "    </tr>\n",
              "    <tr>\n",
              "      <th>2</th>\n",
              "      <td>8/6/1991</td>\n",
              "      <td>725-59-9860</td>\n",
              "      <td>95668</td>\n",
              "      <td>38</td>\n",
              "      <td>Private</td>\n",
              "      <td>215646</td>\n",
              "      <td>HS-grad</td>\n",
              "      <td>9</td>\n",
              "      <td>Divorced</td>\n",
              "      <td>Handlers-cleaners</td>\n",
              "      <td>Not-in-family</td>\n",
              "      <td>White</td>\n",
              "      <td>Male</td>\n",
              "      <td>0</td>\n",
              "      <td>0</td>\n",
              "      <td>40</td>\n",
              "      <td>United-States</td>\n",
              "      <td>&lt;=50K</td>\n",
              "    </tr>\n",
              "    <tr>\n",
              "      <th>3</th>\n",
              "      <td>4/6/2009</td>\n",
              "      <td>659-57-4974</td>\n",
              "      <td>25503</td>\n",
              "      <td>53</td>\n",
              "      <td>Private</td>\n",
              "      <td>234721</td>\n",
              "      <td>11th</td>\n",
              "      <td>7</td>\n",
              "      <td>Married-civ-spouse</td>\n",
              "      <td>Handlers-cleaners</td>\n",
              "      <td>Husband</td>\n",
              "      <td>Black</td>\n",
              "      <td>Male</td>\n",
              "      <td>0</td>\n",
              "      <td>0</td>\n",
              "      <td>40</td>\n",
              "      <td>United-States</td>\n",
              "      <td>&lt;=50K</td>\n",
              "    </tr>\n",
              "    <tr>\n",
              "      <th>4</th>\n",
              "      <td>9/16/1951</td>\n",
              "      <td>220-93-3811</td>\n",
              "      <td>75387</td>\n",
              "      <td>28</td>\n",
              "      <td>Private</td>\n",
              "      <td>338409</td>\n",
              "      <td>Bachelors</td>\n",
              "      <td>13</td>\n",
              "      <td>Married-civ-spouse</td>\n",
              "      <td>Prof-specialty</td>\n",
              "      <td>Wife</td>\n",
              "      <td>Black</td>\n",
              "      <td>Female</td>\n",
              "      <td>0</td>\n",
              "      <td>0</td>\n",
              "      <td>40</td>\n",
              "      <td>Cuba</td>\n",
              "      <td>&lt;=50K</td>\n",
              "    </tr>\n",
              "    <tr>\n",
              "      <th>...</th>\n",
              "      <td>...</td>\n",
              "      <td>...</td>\n",
              "      <td>...</td>\n",
              "      <td>...</td>\n",
              "      <td>...</td>\n",
              "      <td>...</td>\n",
              "      <td>...</td>\n",
              "      <td>...</td>\n",
              "      <td>...</td>\n",
              "      <td>...</td>\n",
              "      <td>...</td>\n",
              "      <td>...</td>\n",
              "      <td>...</td>\n",
              "      <td>...</td>\n",
              "      <td>...</td>\n",
              "      <td>...</td>\n",
              "      <td>...</td>\n",
              "      <td>...</td>\n",
              "    </tr>\n",
              "    <tr>\n",
              "      <th>32556</th>\n",
              "      <td>10/29/1961</td>\n",
              "      <td>212-61-8338</td>\n",
              "      <td>41328</td>\n",
              "      <td>27</td>\n",
              "      <td>Private</td>\n",
              "      <td>257302</td>\n",
              "      <td>Assoc-acdm</td>\n",
              "      <td>12</td>\n",
              "      <td>Married-civ-spouse</td>\n",
              "      <td>Tech-support</td>\n",
              "      <td>Wife</td>\n",
              "      <td>White</td>\n",
              "      <td>Female</td>\n",
              "      <td>0</td>\n",
              "      <td>0</td>\n",
              "      <td>38</td>\n",
              "      <td>United-States</td>\n",
              "      <td>&lt;=50K</td>\n",
              "    </tr>\n",
              "    <tr>\n",
              "      <th>32557</th>\n",
              "      <td>6/28/1952</td>\n",
              "      <td>737-32-2919</td>\n",
              "      <td>94735</td>\n",
              "      <td>40</td>\n",
              "      <td>Private</td>\n",
              "      <td>154374</td>\n",
              "      <td>HS-grad</td>\n",
              "      <td>9</td>\n",
              "      <td>Married-civ-spouse</td>\n",
              "      <td>Machine-op-inspct</td>\n",
              "      <td>Husband</td>\n",
              "      <td>White</td>\n",
              "      <td>Male</td>\n",
              "      <td>0</td>\n",
              "      <td>0</td>\n",
              "      <td>40</td>\n",
              "      <td>United-States</td>\n",
              "      <td>&gt;50K</td>\n",
              "    </tr>\n",
              "    <tr>\n",
              "      <th>32558</th>\n",
              "      <td>8/9/1966</td>\n",
              "      <td>314-48-0219</td>\n",
              "      <td>49628</td>\n",
              "      <td>58</td>\n",
              "      <td>Private</td>\n",
              "      <td>151910</td>\n",
              "      <td>HS-grad</td>\n",
              "      <td>9</td>\n",
              "      <td>Widowed</td>\n",
              "      <td>Adm-clerical</td>\n",
              "      <td>Unmarried</td>\n",
              "      <td>White</td>\n",
              "      <td>Female</td>\n",
              "      <td>0</td>\n",
              "      <td>0</td>\n",
              "      <td>40</td>\n",
              "      <td>United-States</td>\n",
              "      <td>&lt;=50K</td>\n",
              "    </tr>\n",
              "    <tr>\n",
              "      <th>32559</th>\n",
              "      <td>5/19/1978</td>\n",
              "      <td>647-75-3550</td>\n",
              "      <td>8213</td>\n",
              "      <td>22</td>\n",
              "      <td>Private</td>\n",
              "      <td>201490</td>\n",
              "      <td>HS-grad</td>\n",
              "      <td>9</td>\n",
              "      <td>Never-married</td>\n",
              "      <td>Adm-clerical</td>\n",
              "      <td>Own-child</td>\n",
              "      <td>White</td>\n",
              "      <td>Male</td>\n",
              "      <td>0</td>\n",
              "      <td>0</td>\n",
              "      <td>20</td>\n",
              "      <td>United-States</td>\n",
              "      <td>&lt;=50K</td>\n",
              "    </tr>\n",
              "    <tr>\n",
              "      <th>32560</th>\n",
              "      <td>5/11/2012</td>\n",
              "      <td>690-42-5638</td>\n",
              "      <td>86153</td>\n",
              "      <td>52</td>\n",
              "      <td>Self-emp-inc</td>\n",
              "      <td>287927</td>\n",
              "      <td>HS-grad</td>\n",
              "      <td>9</td>\n",
              "      <td>Married-civ-spouse</td>\n",
              "      <td>Exec-managerial</td>\n",
              "      <td>Wife</td>\n",
              "      <td>White</td>\n",
              "      <td>Female</td>\n",
              "      <td>15024</td>\n",
              "      <td>0</td>\n",
              "      <td>40</td>\n",
              "      <td>United-States</td>\n",
              "      <td>&gt;50K</td>\n",
              "    </tr>\n",
              "  </tbody>\n",
              "</table>\n",
              "<p>32561 rows × 18 columns</p>\n",
              "</div>\n",
              "    <div class=\"colab-df-buttons\">\n",
              "\n",
              "  <div class=\"colab-df-container\">\n",
              "    <button class=\"colab-df-convert\" onclick=\"convertToInteractive('df-201e1d01-ed2c-4794-86aa-309c839e0303')\"\n",
              "            title=\"Convert this dataframe to an interactive table.\"\n",
              "            style=\"display:none;\">\n",
              "\n",
              "  <svg xmlns=\"http://www.w3.org/2000/svg\" height=\"24px\" viewBox=\"0 -960 960 960\">\n",
              "    <path d=\"M120-120v-720h720v720H120Zm60-500h600v-160H180v160Zm220 220h160v-160H400v160Zm0 220h160v-160H400v160ZM180-400h160v-160H180v160Zm440 0h160v-160H620v160ZM180-180h160v-160H180v160Zm440 0h160v-160H620v160Z\"/>\n",
              "  </svg>\n",
              "    </button>\n",
              "\n",
              "  <style>\n",
              "    .colab-df-container {\n",
              "      display:flex;\n",
              "      gap: 12px;\n",
              "    }\n",
              "\n",
              "    .colab-df-convert {\n",
              "      background-color: #E8F0FE;\n",
              "      border: none;\n",
              "      border-radius: 50%;\n",
              "      cursor: pointer;\n",
              "      display: none;\n",
              "      fill: #1967D2;\n",
              "      height: 32px;\n",
              "      padding: 0 0 0 0;\n",
              "      width: 32px;\n",
              "    }\n",
              "\n",
              "    .colab-df-convert:hover {\n",
              "      background-color: #E2EBFA;\n",
              "      box-shadow: 0px 1px 2px rgba(60, 64, 67, 0.3), 0px 1px 3px 1px rgba(60, 64, 67, 0.15);\n",
              "      fill: #174EA6;\n",
              "    }\n",
              "\n",
              "    .colab-df-buttons div {\n",
              "      margin-bottom: 4px;\n",
              "    }\n",
              "\n",
              "    [theme=dark] .colab-df-convert {\n",
              "      background-color: #3B4455;\n",
              "      fill: #D2E3FC;\n",
              "    }\n",
              "\n",
              "    [theme=dark] .colab-df-convert:hover {\n",
              "      background-color: #434B5C;\n",
              "      box-shadow: 0px 1px 3px 1px rgba(0, 0, 0, 0.15);\n",
              "      filter: drop-shadow(0px 1px 2px rgba(0, 0, 0, 0.3));\n",
              "      fill: #FFFFFF;\n",
              "    }\n",
              "  </style>\n",
              "\n",
              "    <script>\n",
              "      const buttonEl =\n",
              "        document.querySelector('#df-201e1d01-ed2c-4794-86aa-309c839e0303 button.colab-df-convert');\n",
              "      buttonEl.style.display =\n",
              "        google.colab.kernel.accessAllowed ? 'block' : 'none';\n",
              "\n",
              "      async function convertToInteractive(key) {\n",
              "        const element = document.querySelector('#df-201e1d01-ed2c-4794-86aa-309c839e0303');\n",
              "        const dataTable =\n",
              "          await google.colab.kernel.invokeFunction('convertToInteractive',\n",
              "                                                    [key], {});\n",
              "        if (!dataTable) return;\n",
              "\n",
              "        const docLinkHtml = 'Like what you see? Visit the ' +\n",
              "          '<a target=\"_blank\" href=https://colab.research.google.com/notebooks/data_table.ipynb>data table notebook</a>'\n",
              "          + ' to learn more about interactive tables.';\n",
              "        element.innerHTML = '';\n",
              "        dataTable['output_type'] = 'display_data';\n",
              "        await google.colab.output.renderOutput(dataTable, element);\n",
              "        const docLink = document.createElement('div');\n",
              "        docLink.innerHTML = docLinkHtml;\n",
              "        element.appendChild(docLink);\n",
              "      }\n",
              "    </script>\n",
              "  </div>\n",
              "\n",
              "\n",
              "<div id=\"df-802d5672-76a6-4843-b169-a2d005ba5abd\">\n",
              "  <button class=\"colab-df-quickchart\" onclick=\"quickchart('df-802d5672-76a6-4843-b169-a2d005ba5abd')\"\n",
              "            title=\"Suggest charts\"\n",
              "            style=\"display:none;\">\n",
              "\n",
              "<svg xmlns=\"http://www.w3.org/2000/svg\" height=\"24px\"viewBox=\"0 0 24 24\"\n",
              "     width=\"24px\">\n",
              "    <g>\n",
              "        <path d=\"M19 3H5c-1.1 0-2 .9-2 2v14c0 1.1.9 2 2 2h14c1.1 0 2-.9 2-2V5c0-1.1-.9-2-2-2zM9 17H7v-7h2v7zm4 0h-2V7h2v10zm4 0h-2v-4h2v4z\"/>\n",
              "    </g>\n",
              "</svg>\n",
              "  </button>\n",
              "\n",
              "<style>\n",
              "  .colab-df-quickchart {\n",
              "      --bg-color: #E8F0FE;\n",
              "      --fill-color: #1967D2;\n",
              "      --hover-bg-color: #E2EBFA;\n",
              "      --hover-fill-color: #174EA6;\n",
              "      --disabled-fill-color: #AAA;\n",
              "      --disabled-bg-color: #DDD;\n",
              "  }\n",
              "\n",
              "  [theme=dark] .colab-df-quickchart {\n",
              "      --bg-color: #3B4455;\n",
              "      --fill-color: #D2E3FC;\n",
              "      --hover-bg-color: #434B5C;\n",
              "      --hover-fill-color: #FFFFFF;\n",
              "      --disabled-bg-color: #3B4455;\n",
              "      --disabled-fill-color: #666;\n",
              "  }\n",
              "\n",
              "  .colab-df-quickchart {\n",
              "    background-color: var(--bg-color);\n",
              "    border: none;\n",
              "    border-radius: 50%;\n",
              "    cursor: pointer;\n",
              "    display: none;\n",
              "    fill: var(--fill-color);\n",
              "    height: 32px;\n",
              "    padding: 0;\n",
              "    width: 32px;\n",
              "  }\n",
              "\n",
              "  .colab-df-quickchart:hover {\n",
              "    background-color: var(--hover-bg-color);\n",
              "    box-shadow: 0 1px 2px rgba(60, 64, 67, 0.3), 0 1px 3px 1px rgba(60, 64, 67, 0.15);\n",
              "    fill: var(--button-hover-fill-color);\n",
              "  }\n",
              "\n",
              "  .colab-df-quickchart-complete:disabled,\n",
              "  .colab-df-quickchart-complete:disabled:hover {\n",
              "    background-color: var(--disabled-bg-color);\n",
              "    fill: var(--disabled-fill-color);\n",
              "    box-shadow: none;\n",
              "  }\n",
              "\n",
              "  .colab-df-spinner {\n",
              "    border: 2px solid var(--fill-color);\n",
              "    border-color: transparent;\n",
              "    border-bottom-color: var(--fill-color);\n",
              "    animation:\n",
              "      spin 1s steps(1) infinite;\n",
              "  }\n",
              "\n",
              "  @keyframes spin {\n",
              "    0% {\n",
              "      border-color: transparent;\n",
              "      border-bottom-color: var(--fill-color);\n",
              "      border-left-color: var(--fill-color);\n",
              "    }\n",
              "    20% {\n",
              "      border-color: transparent;\n",
              "      border-left-color: var(--fill-color);\n",
              "      border-top-color: var(--fill-color);\n",
              "    }\n",
              "    30% {\n",
              "      border-color: transparent;\n",
              "      border-left-color: var(--fill-color);\n",
              "      border-top-color: var(--fill-color);\n",
              "      border-right-color: var(--fill-color);\n",
              "    }\n",
              "    40% {\n",
              "      border-color: transparent;\n",
              "      border-right-color: var(--fill-color);\n",
              "      border-top-color: var(--fill-color);\n",
              "    }\n",
              "    60% {\n",
              "      border-color: transparent;\n",
              "      border-right-color: var(--fill-color);\n",
              "    }\n",
              "    80% {\n",
              "      border-color: transparent;\n",
              "      border-right-color: var(--fill-color);\n",
              "      border-bottom-color: var(--fill-color);\n",
              "    }\n",
              "    90% {\n",
              "      border-color: transparent;\n",
              "      border-bottom-color: var(--fill-color);\n",
              "    }\n",
              "  }\n",
              "</style>\n",
              "\n",
              "  <script>\n",
              "    async function quickchart(key) {\n",
              "      const quickchartButtonEl =\n",
              "        document.querySelector('#' + key + ' button');\n",
              "      quickchartButtonEl.disabled = true;  // To prevent multiple clicks.\n",
              "      quickchartButtonEl.classList.add('colab-df-spinner');\n",
              "      try {\n",
              "        const charts = await google.colab.kernel.invokeFunction(\n",
              "            'suggestCharts', [key], {});\n",
              "      } catch (error) {\n",
              "        console.error('Error during call to suggestCharts:', error);\n",
              "      }\n",
              "      quickchartButtonEl.classList.remove('colab-df-spinner');\n",
              "      quickchartButtonEl.classList.add('colab-df-quickchart-complete');\n",
              "    }\n",
              "    (() => {\n",
              "      let quickchartButtonEl =\n",
              "        document.querySelector('#df-802d5672-76a6-4843-b169-a2d005ba5abd button');\n",
              "      quickchartButtonEl.style.display =\n",
              "        google.colab.kernel.accessAllowed ? 'block' : 'none';\n",
              "    })();\n",
              "  </script>\n",
              "</div>\n",
              "\n",
              "    </div>\n",
              "  </div>\n"
            ],
            "application/vnd.google.colaboratory.intrinsic+json": {
              "type": "dataframe",
              "summary": "{\n  \"name\": \"depersonaliser_adult()\",\n  \"rows\": 32561,\n  \"fields\": [\n    {\n      \"column\": \"DOB\",\n      \"properties\": {\n        \"dtype\": \"object\",\n        \"num_unique_values\": 17309,\n        \"samples\": [\n          \"10/19/1965\",\n          \"1/4/1992\",\n          \"9/25/1990\"\n        ],\n        \"semantic_type\": \"\",\n        \"description\": \"\"\n      }\n    },\n    {\n      \"column\": \"SSN\",\n      \"properties\": {\n        \"dtype\": \"string\",\n        \"num_unique_values\": 32560,\n        \"samples\": [\n          \"231-97-1124\",\n          \"876-66-1917\",\n          \"608-09-2960\"\n        ],\n        \"semantic_type\": \"\",\n        \"description\": \"\"\n      }\n    },\n    {\n      \"column\": \"Zip\",\n      \"properties\": {\n        \"dtype\": \"number\",\n        \"std\": 28939,\n        \"min\": 4,\n        \"max\": 99999,\n        \"num_unique_values\": 27791,\n        \"samples\": [\n          14912,\n          85585,\n          48446\n        ],\n        \"semantic_type\": \"\",\n        \"description\": \"\"\n      }\n    },\n    {\n      \"column\": \"Age\",\n      \"properties\": {\n        \"dtype\": \"number\",\n        \"std\": 13,\n        \"min\": 17,\n        \"max\": 90,\n        \"num_unique_values\": 73,\n        \"samples\": [\n          28,\n          73,\n          35\n        ],\n        \"semantic_type\": \"\",\n        \"description\": \"\"\n      }\n    },\n    {\n      \"column\": \"Workclass\",\n      \"properties\": {\n        \"dtype\": \"category\",\n        \"num_unique_values\": 8,\n        \"samples\": [\n          \"Self-emp-not-inc\",\n          \"Self-emp-inc\",\n          \"State-gov\"\n        ],\n        \"semantic_type\": \"\",\n        \"description\": \"\"\n      }\n    },\n    {\n      \"column\": \"fnlwgt\",\n      \"properties\": {\n        \"dtype\": \"number\",\n        \"std\": 105549,\n        \"min\": 12285,\n        \"max\": 1484705,\n        \"num_unique_values\": 21648,\n        \"samples\": [\n          128485,\n          469907,\n          235951\n        ],\n        \"semantic_type\": \"\",\n        \"description\": \"\"\n      }\n    },\n    {\n      \"column\": \"Education\",\n      \"properties\": {\n        \"dtype\": \"category\",\n        \"num_unique_values\": 16,\n        \"samples\": [\n          \"Bachelors\",\n          \"HS-grad\",\n          \"Some-college\"\n        ],\n        \"semantic_type\": \"\",\n        \"description\": \"\"\n      }\n    },\n    {\n      \"column\": \"Education-Num\",\n      \"properties\": {\n        \"dtype\": \"number\",\n        \"std\": 2,\n        \"min\": 1,\n        \"max\": 16,\n        \"num_unique_values\": 16,\n        \"samples\": [\n          13,\n          9,\n          10\n        ],\n        \"semantic_type\": \"\",\n        \"description\": \"\"\n      }\n    },\n    {\n      \"column\": \"Marital Status\",\n      \"properties\": {\n        \"dtype\": \"category\",\n        \"num_unique_values\": 7,\n        \"samples\": [\n          \"Never-married\",\n          \"Married-civ-spouse\",\n          \"Married-AF-spouse\"\n        ],\n        \"semantic_type\": \"\",\n        \"description\": \"\"\n      }\n    },\n    {\n      \"column\": \"Occupation\",\n      \"properties\": {\n        \"dtype\": \"category\",\n        \"num_unique_values\": 14,\n        \"samples\": [\n          \"Machine-op-inspct\",\n          \"Protective-serv\",\n          \"Adm-clerical\"\n        ],\n        \"semantic_type\": \"\",\n        \"description\": \"\"\n      }\n    },\n    {\n      \"column\": \"Relationship\",\n      \"properties\": {\n        \"dtype\": \"category\",\n        \"num_unique_values\": 6,\n        \"samples\": [\n          \"Not-in-family\",\n          \"Husband\",\n          \"Other-relative\"\n        ],\n        \"semantic_type\": \"\",\n        \"description\": \"\"\n      }\n    },\n    {\n      \"column\": \"Race\",\n      \"properties\": {\n        \"dtype\": \"category\",\n        \"num_unique_values\": 5,\n        \"samples\": [\n          \"Black\",\n          \"Other\",\n          \"Asian-Pac-Islander\"\n        ],\n        \"semantic_type\": \"\",\n        \"description\": \"\"\n      }\n    },\n    {\n      \"column\": \"Sex\",\n      \"properties\": {\n        \"dtype\": \"category\",\n        \"num_unique_values\": 2,\n        \"samples\": [\n          \"Female\",\n          \"Male\"\n        ],\n        \"semantic_type\": \"\",\n        \"description\": \"\"\n      }\n    },\n    {\n      \"column\": \"Capital Gain\",\n      \"properties\": {\n        \"dtype\": \"number\",\n        \"std\": 7385,\n        \"min\": 0,\n        \"max\": 99999,\n        \"num_unique_values\": 119,\n        \"samples\": [\n          3781,\n          15831\n        ],\n        \"semantic_type\": \"\",\n        \"description\": \"\"\n      }\n    },\n    {\n      \"column\": \"Capital Loss\",\n      \"properties\": {\n        \"dtype\": \"number\",\n        \"std\": 402,\n        \"min\": 0,\n        \"max\": 4356,\n        \"num_unique_values\": 92,\n        \"samples\": [\n          419,\n          2051\n        ],\n        \"semantic_type\": \"\",\n        \"description\": \"\"\n      }\n    },\n    {\n      \"column\": \"Hours per week\",\n      \"properties\": {\n        \"dtype\": \"number\",\n        \"std\": 12,\n        \"min\": 1,\n        \"max\": 99,\n        \"num_unique_values\": 94,\n        \"samples\": [\n          6,\n          22\n        ],\n        \"semantic_type\": \"\",\n        \"description\": \"\"\n      }\n    },\n    {\n      \"column\": \"Country\",\n      \"properties\": {\n        \"dtype\": \"category\",\n        \"num_unique_values\": 41,\n        \"samples\": [\n          \"El-Salvador\",\n          \"Italy\"\n        ],\n        \"semantic_type\": \"\",\n        \"description\": \"\"\n      }\n    },\n    {\n      \"column\": \"Target\",\n      \"properties\": {\n        \"dtype\": \"category\",\n        \"num_unique_values\": 2,\n        \"samples\": [\n          \">50K\",\n          \"<=50K\"\n        ],\n        \"semantic_type\": \"\",\n        \"description\": \"\"\n      }\n    }\n  ]\n}"
            }
          },
          "metadata": {},
          "execution_count": 11
        }
      ]
    },
    {
      "cell_type": "markdown",
      "id": "b8fd161c-80d0-42bb-8061-39b297583fe1",
      "metadata": {
        "id": "b8fd161c-80d0-42bb-8061-39b297583fe1"
      },
      "source": [
        "**Question 3** [1 pts]: Afficher les 5 premières ligne du jeu de données dépersonalisée"
      ]
    },
    {
      "cell_type": "code",
      "source": [
        "depersonaliser_adult().head() # affiche les 5 premiers lignes"
      ],
      "metadata": {
        "colab": {
          "base_uri": "https://localhost:8080/",
          "height": 310
        },
        "id": "jethj8D1_u3A",
        "outputId": "2ad84673-7eb2-4d3b-b465-6f53c04dd7bc"
      },
      "id": "jethj8D1_u3A",
      "execution_count": 14,
      "outputs": [
        {
          "output_type": "execute_result",
          "data": {
            "text/plain": [
              "         DOB          SSN    Zip  Age         Workclass  fnlwgt  Education  \\\n",
              "0   9/7/1967  732-14-6110  64152   39         State-gov   77516  Bachelors   \n",
              "1   6/7/1988  150-19-2766  61523   50  Self-emp-not-inc   83311  Bachelors   \n",
              "2   8/6/1991  725-59-9860  95668   38           Private  215646    HS-grad   \n",
              "3   4/6/2009  659-57-4974  25503   53           Private  234721       11th   \n",
              "4  9/16/1951  220-93-3811  75387   28           Private  338409  Bachelors   \n",
              "\n",
              "   Education-Num      Marital Status         Occupation   Relationship   Race  \\\n",
              "0             13       Never-married       Adm-clerical  Not-in-family  White   \n",
              "1             13  Married-civ-spouse    Exec-managerial        Husband  White   \n",
              "2              9            Divorced  Handlers-cleaners  Not-in-family  White   \n",
              "3              7  Married-civ-spouse  Handlers-cleaners        Husband  Black   \n",
              "4             13  Married-civ-spouse     Prof-specialty           Wife  Black   \n",
              "\n",
              "      Sex  Capital Gain  Capital Loss  Hours per week        Country Target  \n",
              "0    Male          2174             0              40  United-States  <=50K  \n",
              "1    Male             0             0              13  United-States  <=50K  \n",
              "2    Male             0             0              40  United-States  <=50K  \n",
              "3    Male             0             0              40  United-States  <=50K  \n",
              "4  Female             0             0              40           Cuba  <=50K  "
            ],
            "text/html": [
              "\n",
              "  <div id=\"df-1284397b-c3c6-41f5-9c9d-466cd5c35233\" class=\"colab-df-container\">\n",
              "    <div>\n",
              "<style scoped>\n",
              "    .dataframe tbody tr th:only-of-type {\n",
              "        vertical-align: middle;\n",
              "    }\n",
              "\n",
              "    .dataframe tbody tr th {\n",
              "        vertical-align: top;\n",
              "    }\n",
              "\n",
              "    .dataframe thead th {\n",
              "        text-align: right;\n",
              "    }\n",
              "</style>\n",
              "<table border=\"1\" class=\"dataframe\">\n",
              "  <thead>\n",
              "    <tr style=\"text-align: right;\">\n",
              "      <th></th>\n",
              "      <th>DOB</th>\n",
              "      <th>SSN</th>\n",
              "      <th>Zip</th>\n",
              "      <th>Age</th>\n",
              "      <th>Workclass</th>\n",
              "      <th>fnlwgt</th>\n",
              "      <th>Education</th>\n",
              "      <th>Education-Num</th>\n",
              "      <th>Marital Status</th>\n",
              "      <th>Occupation</th>\n",
              "      <th>Relationship</th>\n",
              "      <th>Race</th>\n",
              "      <th>Sex</th>\n",
              "      <th>Capital Gain</th>\n",
              "      <th>Capital Loss</th>\n",
              "      <th>Hours per week</th>\n",
              "      <th>Country</th>\n",
              "      <th>Target</th>\n",
              "    </tr>\n",
              "  </thead>\n",
              "  <tbody>\n",
              "    <tr>\n",
              "      <th>0</th>\n",
              "      <td>9/7/1967</td>\n",
              "      <td>732-14-6110</td>\n",
              "      <td>64152</td>\n",
              "      <td>39</td>\n",
              "      <td>State-gov</td>\n",
              "      <td>77516</td>\n",
              "      <td>Bachelors</td>\n",
              "      <td>13</td>\n",
              "      <td>Never-married</td>\n",
              "      <td>Adm-clerical</td>\n",
              "      <td>Not-in-family</td>\n",
              "      <td>White</td>\n",
              "      <td>Male</td>\n",
              "      <td>2174</td>\n",
              "      <td>0</td>\n",
              "      <td>40</td>\n",
              "      <td>United-States</td>\n",
              "      <td>&lt;=50K</td>\n",
              "    </tr>\n",
              "    <tr>\n",
              "      <th>1</th>\n",
              "      <td>6/7/1988</td>\n",
              "      <td>150-19-2766</td>\n",
              "      <td>61523</td>\n",
              "      <td>50</td>\n",
              "      <td>Self-emp-not-inc</td>\n",
              "      <td>83311</td>\n",
              "      <td>Bachelors</td>\n",
              "      <td>13</td>\n",
              "      <td>Married-civ-spouse</td>\n",
              "      <td>Exec-managerial</td>\n",
              "      <td>Husband</td>\n",
              "      <td>White</td>\n",
              "      <td>Male</td>\n",
              "      <td>0</td>\n",
              "      <td>0</td>\n",
              "      <td>13</td>\n",
              "      <td>United-States</td>\n",
              "      <td>&lt;=50K</td>\n",
              "    </tr>\n",
              "    <tr>\n",
              "      <th>2</th>\n",
              "      <td>8/6/1991</td>\n",
              "      <td>725-59-9860</td>\n",
              "      <td>95668</td>\n",
              "      <td>38</td>\n",
              "      <td>Private</td>\n",
              "      <td>215646</td>\n",
              "      <td>HS-grad</td>\n",
              "      <td>9</td>\n",
              "      <td>Divorced</td>\n",
              "      <td>Handlers-cleaners</td>\n",
              "      <td>Not-in-family</td>\n",
              "      <td>White</td>\n",
              "      <td>Male</td>\n",
              "      <td>0</td>\n",
              "      <td>0</td>\n",
              "      <td>40</td>\n",
              "      <td>United-States</td>\n",
              "      <td>&lt;=50K</td>\n",
              "    </tr>\n",
              "    <tr>\n",
              "      <th>3</th>\n",
              "      <td>4/6/2009</td>\n",
              "      <td>659-57-4974</td>\n",
              "      <td>25503</td>\n",
              "      <td>53</td>\n",
              "      <td>Private</td>\n",
              "      <td>234721</td>\n",
              "      <td>11th</td>\n",
              "      <td>7</td>\n",
              "      <td>Married-civ-spouse</td>\n",
              "      <td>Handlers-cleaners</td>\n",
              "      <td>Husband</td>\n",
              "      <td>Black</td>\n",
              "      <td>Male</td>\n",
              "      <td>0</td>\n",
              "      <td>0</td>\n",
              "      <td>40</td>\n",
              "      <td>United-States</td>\n",
              "      <td>&lt;=50K</td>\n",
              "    </tr>\n",
              "    <tr>\n",
              "      <th>4</th>\n",
              "      <td>9/16/1951</td>\n",
              "      <td>220-93-3811</td>\n",
              "      <td>75387</td>\n",
              "      <td>28</td>\n",
              "      <td>Private</td>\n",
              "      <td>338409</td>\n",
              "      <td>Bachelors</td>\n",
              "      <td>13</td>\n",
              "      <td>Married-civ-spouse</td>\n",
              "      <td>Prof-specialty</td>\n",
              "      <td>Wife</td>\n",
              "      <td>Black</td>\n",
              "      <td>Female</td>\n",
              "      <td>0</td>\n",
              "      <td>0</td>\n",
              "      <td>40</td>\n",
              "      <td>Cuba</td>\n",
              "      <td>&lt;=50K</td>\n",
              "    </tr>\n",
              "  </tbody>\n",
              "</table>\n",
              "</div>\n",
              "    <div class=\"colab-df-buttons\">\n",
              "\n",
              "  <div class=\"colab-df-container\">\n",
              "    <button class=\"colab-df-convert\" onclick=\"convertToInteractive('df-1284397b-c3c6-41f5-9c9d-466cd5c35233')\"\n",
              "            title=\"Convert this dataframe to an interactive table.\"\n",
              "            style=\"display:none;\">\n",
              "\n",
              "  <svg xmlns=\"http://www.w3.org/2000/svg\" height=\"24px\" viewBox=\"0 -960 960 960\">\n",
              "    <path d=\"M120-120v-720h720v720H120Zm60-500h600v-160H180v160Zm220 220h160v-160H400v160Zm0 220h160v-160H400v160ZM180-400h160v-160H180v160Zm440 0h160v-160H620v160ZM180-180h160v-160H180v160Zm440 0h160v-160H620v160Z\"/>\n",
              "  </svg>\n",
              "    </button>\n",
              "\n",
              "  <style>\n",
              "    .colab-df-container {\n",
              "      display:flex;\n",
              "      gap: 12px;\n",
              "    }\n",
              "\n",
              "    .colab-df-convert {\n",
              "      background-color: #E8F0FE;\n",
              "      border: none;\n",
              "      border-radius: 50%;\n",
              "      cursor: pointer;\n",
              "      display: none;\n",
              "      fill: #1967D2;\n",
              "      height: 32px;\n",
              "      padding: 0 0 0 0;\n",
              "      width: 32px;\n",
              "    }\n",
              "\n",
              "    .colab-df-convert:hover {\n",
              "      background-color: #E2EBFA;\n",
              "      box-shadow: 0px 1px 2px rgba(60, 64, 67, 0.3), 0px 1px 3px 1px rgba(60, 64, 67, 0.15);\n",
              "      fill: #174EA6;\n",
              "    }\n",
              "\n",
              "    .colab-df-buttons div {\n",
              "      margin-bottom: 4px;\n",
              "    }\n",
              "\n",
              "    [theme=dark] .colab-df-convert {\n",
              "      background-color: #3B4455;\n",
              "      fill: #D2E3FC;\n",
              "    }\n",
              "\n",
              "    [theme=dark] .colab-df-convert:hover {\n",
              "      background-color: #434B5C;\n",
              "      box-shadow: 0px 1px 3px 1px rgba(0, 0, 0, 0.15);\n",
              "      filter: drop-shadow(0px 1px 2px rgba(0, 0, 0, 0.3));\n",
              "      fill: #FFFFFF;\n",
              "    }\n",
              "  </style>\n",
              "\n",
              "    <script>\n",
              "      const buttonEl =\n",
              "        document.querySelector('#df-1284397b-c3c6-41f5-9c9d-466cd5c35233 button.colab-df-convert');\n",
              "      buttonEl.style.display =\n",
              "        google.colab.kernel.accessAllowed ? 'block' : 'none';\n",
              "\n",
              "      async function convertToInteractive(key) {\n",
              "        const element = document.querySelector('#df-1284397b-c3c6-41f5-9c9d-466cd5c35233');\n",
              "        const dataTable =\n",
              "          await google.colab.kernel.invokeFunction('convertToInteractive',\n",
              "                                                    [key], {});\n",
              "        if (!dataTable) return;\n",
              "\n",
              "        const docLinkHtml = 'Like what you see? Visit the ' +\n",
              "          '<a target=\"_blank\" href=https://colab.research.google.com/notebooks/data_table.ipynb>data table notebook</a>'\n",
              "          + ' to learn more about interactive tables.';\n",
              "        element.innerHTML = '';\n",
              "        dataTable['output_type'] = 'display_data';\n",
              "        await google.colab.output.renderOutput(dataTable, element);\n",
              "        const docLink = document.createElement('div');\n",
              "        docLink.innerHTML = docLinkHtml;\n",
              "        element.appendChild(docLink);\n",
              "      }\n",
              "    </script>\n",
              "  </div>\n",
              "\n",
              "\n",
              "<div id=\"df-2f932059-f440-4bcd-b48f-1487e4c1d41b\">\n",
              "  <button class=\"colab-df-quickchart\" onclick=\"quickchart('df-2f932059-f440-4bcd-b48f-1487e4c1d41b')\"\n",
              "            title=\"Suggest charts\"\n",
              "            style=\"display:none;\">\n",
              "\n",
              "<svg xmlns=\"http://www.w3.org/2000/svg\" height=\"24px\"viewBox=\"0 0 24 24\"\n",
              "     width=\"24px\">\n",
              "    <g>\n",
              "        <path d=\"M19 3H5c-1.1 0-2 .9-2 2v14c0 1.1.9 2 2 2h14c1.1 0 2-.9 2-2V5c0-1.1-.9-2-2-2zM9 17H7v-7h2v7zm4 0h-2V7h2v10zm4 0h-2v-4h2v4z\"/>\n",
              "    </g>\n",
              "</svg>\n",
              "  </button>\n",
              "\n",
              "<style>\n",
              "  .colab-df-quickchart {\n",
              "      --bg-color: #E8F0FE;\n",
              "      --fill-color: #1967D2;\n",
              "      --hover-bg-color: #E2EBFA;\n",
              "      --hover-fill-color: #174EA6;\n",
              "      --disabled-fill-color: #AAA;\n",
              "      --disabled-bg-color: #DDD;\n",
              "  }\n",
              "\n",
              "  [theme=dark] .colab-df-quickchart {\n",
              "      --bg-color: #3B4455;\n",
              "      --fill-color: #D2E3FC;\n",
              "      --hover-bg-color: #434B5C;\n",
              "      --hover-fill-color: #FFFFFF;\n",
              "      --disabled-bg-color: #3B4455;\n",
              "      --disabled-fill-color: #666;\n",
              "  }\n",
              "\n",
              "  .colab-df-quickchart {\n",
              "    background-color: var(--bg-color);\n",
              "    border: none;\n",
              "    border-radius: 50%;\n",
              "    cursor: pointer;\n",
              "    display: none;\n",
              "    fill: var(--fill-color);\n",
              "    height: 32px;\n",
              "    padding: 0;\n",
              "    width: 32px;\n",
              "  }\n",
              "\n",
              "  .colab-df-quickchart:hover {\n",
              "    background-color: var(--hover-bg-color);\n",
              "    box-shadow: 0 1px 2px rgba(60, 64, 67, 0.3), 0 1px 3px 1px rgba(60, 64, 67, 0.15);\n",
              "    fill: var(--button-hover-fill-color);\n",
              "  }\n",
              "\n",
              "  .colab-df-quickchart-complete:disabled,\n",
              "  .colab-df-quickchart-complete:disabled:hover {\n",
              "    background-color: var(--disabled-bg-color);\n",
              "    fill: var(--disabled-fill-color);\n",
              "    box-shadow: none;\n",
              "  }\n",
              "\n",
              "  .colab-df-spinner {\n",
              "    border: 2px solid var(--fill-color);\n",
              "    border-color: transparent;\n",
              "    border-bottom-color: var(--fill-color);\n",
              "    animation:\n",
              "      spin 1s steps(1) infinite;\n",
              "  }\n",
              "\n",
              "  @keyframes spin {\n",
              "    0% {\n",
              "      border-color: transparent;\n",
              "      border-bottom-color: var(--fill-color);\n",
              "      border-left-color: var(--fill-color);\n",
              "    }\n",
              "    20% {\n",
              "      border-color: transparent;\n",
              "      border-left-color: var(--fill-color);\n",
              "      border-top-color: var(--fill-color);\n",
              "    }\n",
              "    30% {\n",
              "      border-color: transparent;\n",
              "      border-left-color: var(--fill-color);\n",
              "      border-top-color: var(--fill-color);\n",
              "      border-right-color: var(--fill-color);\n",
              "    }\n",
              "    40% {\n",
              "      border-color: transparent;\n",
              "      border-right-color: var(--fill-color);\n",
              "      border-top-color: var(--fill-color);\n",
              "    }\n",
              "    60% {\n",
              "      border-color: transparent;\n",
              "      border-right-color: var(--fill-color);\n",
              "    }\n",
              "    80% {\n",
              "      border-color: transparent;\n",
              "      border-right-color: var(--fill-color);\n",
              "      border-bottom-color: var(--fill-color);\n",
              "    }\n",
              "    90% {\n",
              "      border-color: transparent;\n",
              "      border-bottom-color: var(--fill-color);\n",
              "    }\n",
              "  }\n",
              "</style>\n",
              "\n",
              "  <script>\n",
              "    async function quickchart(key) {\n",
              "      const quickchartButtonEl =\n",
              "        document.querySelector('#' + key + ' button');\n",
              "      quickchartButtonEl.disabled = true;  // To prevent multiple clicks.\n",
              "      quickchartButtonEl.classList.add('colab-df-spinner');\n",
              "      try {\n",
              "        const charts = await google.colab.kernel.invokeFunction(\n",
              "            'suggestCharts', [key], {});\n",
              "      } catch (error) {\n",
              "        console.error('Error during call to suggestCharts:', error);\n",
              "      }\n",
              "      quickchartButtonEl.classList.remove('colab-df-spinner');\n",
              "      quickchartButtonEl.classList.add('colab-df-quickchart-complete');\n",
              "    }\n",
              "    (() => {\n",
              "      let quickchartButtonEl =\n",
              "        document.querySelector('#df-2f932059-f440-4bcd-b48f-1487e4c1d41b button');\n",
              "      quickchartButtonEl.style.display =\n",
              "        google.colab.kernel.accessAllowed ? 'block' : 'none';\n",
              "    })();\n",
              "  </script>\n",
              "</div>\n",
              "\n",
              "    </div>\n",
              "  </div>\n"
            ],
            "application/vnd.google.colaboratory.intrinsic+json": {
              "type": "dataframe",
              "summary": "{\n  \"name\": \"depersonaliser_adult()\",\n  \"rows\": 5,\n  \"fields\": [\n    {\n      \"column\": \"DOB\",\n      \"properties\": {\n        \"dtype\": \"object\",\n        \"num_unique_values\": 5,\n        \"samples\": [\n          \"6/7/1988\",\n          \"9/16/1951\",\n          \"8/6/1991\"\n        ],\n        \"semantic_type\": \"\",\n        \"description\": \"\"\n      }\n    },\n    {\n      \"column\": \"SSN\",\n      \"properties\": {\n        \"dtype\": \"string\",\n        \"num_unique_values\": 5,\n        \"samples\": [\n          \"150-19-2766\",\n          \"220-93-3811\",\n          \"725-59-9860\"\n        ],\n        \"semantic_type\": \"\",\n        \"description\": \"\"\n      }\n    },\n    {\n      \"column\": \"Zip\",\n      \"properties\": {\n        \"dtype\": \"number\",\n        \"std\": 25591,\n        \"min\": 25503,\n        \"max\": 95668,\n        \"num_unique_values\": 5,\n        \"samples\": [\n          61523,\n          75387,\n          95668\n        ],\n        \"semantic_type\": \"\",\n        \"description\": \"\"\n      }\n    },\n    {\n      \"column\": \"Age\",\n      \"properties\": {\n        \"dtype\": \"number\",\n        \"std\": 10,\n        \"min\": 28,\n        \"max\": 53,\n        \"num_unique_values\": 5,\n        \"samples\": [\n          50,\n          28,\n          38\n        ],\n        \"semantic_type\": \"\",\n        \"description\": \"\"\n      }\n    },\n    {\n      \"column\": \"Workclass\",\n      \"properties\": {\n        \"dtype\": \"string\",\n        \"num_unique_values\": 3,\n        \"samples\": [\n          \"State-gov\",\n          \"Self-emp-not-inc\",\n          \"Private\"\n        ],\n        \"semantic_type\": \"\",\n        \"description\": \"\"\n      }\n    },\n    {\n      \"column\": \"fnlwgt\",\n      \"properties\": {\n        \"dtype\": \"number\",\n        \"std\": 110360,\n        \"min\": 77516,\n        \"max\": 338409,\n        \"num_unique_values\": 5,\n        \"samples\": [\n          83311,\n          338409,\n          215646\n        ],\n        \"semantic_type\": \"\",\n        \"description\": \"\"\n      }\n    },\n    {\n      \"column\": \"Education\",\n      \"properties\": {\n        \"dtype\": \"string\",\n        \"num_unique_values\": 3,\n        \"samples\": [\n          \"Bachelors\",\n          \"HS-grad\",\n          \"11th\"\n        ],\n        \"semantic_type\": \"\",\n        \"description\": \"\"\n      }\n    },\n    {\n      \"column\": \"Education-Num\",\n      \"properties\": {\n        \"dtype\": \"number\",\n        \"std\": 2,\n        \"min\": 7,\n        \"max\": 13,\n        \"num_unique_values\": 3,\n        \"samples\": [\n          13,\n          9,\n          7\n        ],\n        \"semantic_type\": \"\",\n        \"description\": \"\"\n      }\n    },\n    {\n      \"column\": \"Marital Status\",\n      \"properties\": {\n        \"dtype\": \"string\",\n        \"num_unique_values\": 3,\n        \"samples\": [\n          \"Never-married\",\n          \"Married-civ-spouse\",\n          \"Divorced\"\n        ],\n        \"semantic_type\": \"\",\n        \"description\": \"\"\n      }\n    },\n    {\n      \"column\": \"Occupation\",\n      \"properties\": {\n        \"dtype\": \"string\",\n        \"num_unique_values\": 4,\n        \"samples\": [\n          \"Exec-managerial\",\n          \"Prof-specialty\",\n          \"Adm-clerical\"\n        ],\n        \"semantic_type\": \"\",\n        \"description\": \"\"\n      }\n    },\n    {\n      \"column\": \"Relationship\",\n      \"properties\": {\n        \"dtype\": \"string\",\n        \"num_unique_values\": 3,\n        \"samples\": [\n          \"Not-in-family\",\n          \"Husband\",\n          \"Wife\"\n        ],\n        \"semantic_type\": \"\",\n        \"description\": \"\"\n      }\n    },\n    {\n      \"column\": \"Race\",\n      \"properties\": {\n        \"dtype\": \"category\",\n        \"num_unique_values\": 2,\n        \"samples\": [\n          \"Black\",\n          \"White\"\n        ],\n        \"semantic_type\": \"\",\n        \"description\": \"\"\n      }\n    },\n    {\n      \"column\": \"Sex\",\n      \"properties\": {\n        \"dtype\": \"category\",\n        \"num_unique_values\": 2,\n        \"samples\": [\n          \"Female\",\n          \"Male\"\n        ],\n        \"semantic_type\": \"\",\n        \"description\": \"\"\n      }\n    },\n    {\n      \"column\": \"Capital Gain\",\n      \"properties\": {\n        \"dtype\": \"number\",\n        \"std\": 972,\n        \"min\": 0,\n        \"max\": 2174,\n        \"num_unique_values\": 2,\n        \"samples\": [\n          0,\n          2174\n        ],\n        \"semantic_type\": \"\",\n        \"description\": \"\"\n      }\n    },\n    {\n      \"column\": \"Capital Loss\",\n      \"properties\": {\n        \"dtype\": \"number\",\n        \"std\": 0,\n        \"min\": 0,\n        \"max\": 0,\n        \"num_unique_values\": 1,\n        \"samples\": [\n          0\n        ],\n        \"semantic_type\": \"\",\n        \"description\": \"\"\n      }\n    },\n    {\n      \"column\": \"Hours per week\",\n      \"properties\": {\n        \"dtype\": \"number\",\n        \"std\": 12,\n        \"min\": 13,\n        \"max\": 40,\n        \"num_unique_values\": 2,\n        \"samples\": [\n          13\n        ],\n        \"semantic_type\": \"\",\n        \"description\": \"\"\n      }\n    },\n    {\n      \"column\": \"Country\",\n      \"properties\": {\n        \"dtype\": \"category\",\n        \"num_unique_values\": 2,\n        \"samples\": [\n          \"Cuba\"\n        ],\n        \"semantic_type\": \"\",\n        \"description\": \"\"\n      }\n    },\n    {\n      \"column\": \"Target\",\n      \"properties\": {\n        \"dtype\": \"category\",\n        \"num_unique_values\": 1,\n        \"samples\": [\n          \"<=50K\"\n        ],\n        \"semantic_type\": \"\",\n        \"description\": \"\"\n      }\n    }\n  ]\n}"
            }
          },
          "metadata": {},
          "execution_count": 14
        }
      ]
    },
    {
      "cell_type": "markdown",
      "id": "3461d69d-950a-47a0-bb40-05f47109a41a",
      "metadata": {
        "id": "3461d69d-950a-47a0-bb40-05f47109a41a"
      },
      "source": [
        "**Question 4** [3 pts]: En utilisant `pandas`, écrire un code qui renvoit uniquement la ligne corespondant à l'enregistrement de `Faith McCloughlin` à partir du jeu de donnée original `adult`"
      ]
    },
    {
      "cell_type": "code",
      "source": [
        "df['Name']\n"
      ],
      "metadata": {
        "colab": {
          "base_uri": "https://localhost:8080/",
          "height": 458
        },
        "id": "uDjEfFJfN7LG",
        "outputId": "69b92b5f-b50a-412a-fc99-4009ce81ebba"
      },
      "id": "uDjEfFJfN7LG",
      "execution_count": null,
      "outputs": [
        {
          "output_type": "execute_result",
          "data": {
            "text/plain": [
              "0         Karrie Trusslove\n",
              "1         Brandise Tripony\n",
              "2            Brenn McNeely\n",
              "3              Dorry Poter\n",
              "4              Dick Honnan\n",
              "               ...        \n",
              "32556         Ardyce Golby\n",
              "32557        Jean O'Connor\n",
              "32558     Reuben Skrzynski\n",
              "32559          Caye Biddle\n",
              "32560    Hortense Hardesty\n",
              "Name: Name, Length: 32561, dtype: object"
            ],
            "text/html": [
              "<div>\n",
              "<style scoped>\n",
              "    .dataframe tbody tr th:only-of-type {\n",
              "        vertical-align: middle;\n",
              "    }\n",
              "\n",
              "    .dataframe tbody tr th {\n",
              "        vertical-align: top;\n",
              "    }\n",
              "\n",
              "    .dataframe thead th {\n",
              "        text-align: right;\n",
              "    }\n",
              "</style>\n",
              "<table border=\"1\" class=\"dataframe\">\n",
              "  <thead>\n",
              "    <tr style=\"text-align: right;\">\n",
              "      <th></th>\n",
              "      <th>Name</th>\n",
              "    </tr>\n",
              "  </thead>\n",
              "  <tbody>\n",
              "    <tr>\n",
              "      <th>0</th>\n",
              "      <td>Karrie Trusslove</td>\n",
              "    </tr>\n",
              "    <tr>\n",
              "      <th>1</th>\n",
              "      <td>Brandise Tripony</td>\n",
              "    </tr>\n",
              "    <tr>\n",
              "      <th>2</th>\n",
              "      <td>Brenn McNeely</td>\n",
              "    </tr>\n",
              "    <tr>\n",
              "      <th>3</th>\n",
              "      <td>Dorry Poter</td>\n",
              "    </tr>\n",
              "    <tr>\n",
              "      <th>4</th>\n",
              "      <td>Dick Honnan</td>\n",
              "    </tr>\n",
              "    <tr>\n",
              "      <th>...</th>\n",
              "      <td>...</td>\n",
              "    </tr>\n",
              "    <tr>\n",
              "      <th>32556</th>\n",
              "      <td>Ardyce Golby</td>\n",
              "    </tr>\n",
              "    <tr>\n",
              "      <th>32557</th>\n",
              "      <td>Jean O'Connor</td>\n",
              "    </tr>\n",
              "    <tr>\n",
              "      <th>32558</th>\n",
              "      <td>Reuben Skrzynski</td>\n",
              "    </tr>\n",
              "    <tr>\n",
              "      <th>32559</th>\n",
              "      <td>Caye Biddle</td>\n",
              "    </tr>\n",
              "    <tr>\n",
              "      <th>32560</th>\n",
              "      <td>Hortense Hardesty</td>\n",
              "    </tr>\n",
              "  </tbody>\n",
              "</table>\n",
              "<p>32561 rows × 1 columns</p>\n",
              "</div><br><label><b>dtype:</b> object</label>"
            ]
          },
          "metadata": {},
          "execution_count": 133
        }
      ]
    },
    {
      "cell_type": "code",
      "execution_count": 36,
      "id": "1ef38c96-ce04-4a31-9cc9-ab7be8befd1c",
      "metadata": {
        "id": "1ef38c96-ce04-4a31-9cc9-ab7be8befd1c"
      },
      "outputs": [],
      "source": [
        "def get_McCloughlin_row():\n",
        "    # VOTRE CODE ICI:\n",
        "    # définissons les critères de recherche, il sera basé uniquemnt sur le nom\n",
        "    critere_reherche = {\n",
        "        'Name':'Faith McCloughlin'\n",
        "    }\n",
        "    # filtrer le dataset adult pour trouver la ligne correspondante\n",
        "    for index, valeur in adult['Name'].items():\n",
        "      if valeur == critere_reherche['Name']:\n",
        "        resultat = adult.iloc[index]\n",
        "        return resultat\n",
        "    return None"
      ]
    },
    {
      "cell_type": "code",
      "source": [
        "get_McCloughlin_row()"
      ],
      "metadata": {
        "colab": {
          "base_uri": "https://localhost:8080/",
          "height": 680
        },
        "id": "yeE0tf2PRBuf",
        "outputId": "7f172aee-0a13-4379-dbc1-18d1e4c4d398"
      },
      "id": "yeE0tf2PRBuf",
      "execution_count": 37,
      "outputs": [
        {
          "output_type": "execute_result",
          "data": {
            "text/plain": [
              "Name              Faith McCloughlin\n",
              "DOB                      12/25/1984\n",
              "SSN                     718-79-8158\n",
              "Zip                           41277\n",
              "Age                              30\n",
              "Workclass                   Private\n",
              "fnlwgt                       132565\n",
              "Education              Some-college\n",
              "Education-Num                    10\n",
              "Marital Status        Never-married\n",
              "Occupation             Craft-repair\n",
              "Relationship              Unmarried\n",
              "Race                          White\n",
              "Sex                            Male\n",
              "Capital Gain                      0\n",
              "Capital Loss                      0\n",
              "Hours per week                   40\n",
              "Country               United-States\n",
              "Target                        <=50K\n",
              "Name: 11019, dtype: object"
            ],
            "text/html": [
              "<div>\n",
              "<style scoped>\n",
              "    .dataframe tbody tr th:only-of-type {\n",
              "        vertical-align: middle;\n",
              "    }\n",
              "\n",
              "    .dataframe tbody tr th {\n",
              "        vertical-align: top;\n",
              "    }\n",
              "\n",
              "    .dataframe thead th {\n",
              "        text-align: right;\n",
              "    }\n",
              "</style>\n",
              "<table border=\"1\" class=\"dataframe\">\n",
              "  <thead>\n",
              "    <tr style=\"text-align: right;\">\n",
              "      <th></th>\n",
              "      <th>11019</th>\n",
              "    </tr>\n",
              "  </thead>\n",
              "  <tbody>\n",
              "    <tr>\n",
              "      <th>Name</th>\n",
              "      <td>Faith McCloughlin</td>\n",
              "    </tr>\n",
              "    <tr>\n",
              "      <th>DOB</th>\n",
              "      <td>12/25/1984</td>\n",
              "    </tr>\n",
              "    <tr>\n",
              "      <th>SSN</th>\n",
              "      <td>718-79-8158</td>\n",
              "    </tr>\n",
              "    <tr>\n",
              "      <th>Zip</th>\n",
              "      <td>41277</td>\n",
              "    </tr>\n",
              "    <tr>\n",
              "      <th>Age</th>\n",
              "      <td>30</td>\n",
              "    </tr>\n",
              "    <tr>\n",
              "      <th>Workclass</th>\n",
              "      <td>Private</td>\n",
              "    </tr>\n",
              "    <tr>\n",
              "      <th>fnlwgt</th>\n",
              "      <td>132565</td>\n",
              "    </tr>\n",
              "    <tr>\n",
              "      <th>Education</th>\n",
              "      <td>Some-college</td>\n",
              "    </tr>\n",
              "    <tr>\n",
              "      <th>Education-Num</th>\n",
              "      <td>10</td>\n",
              "    </tr>\n",
              "    <tr>\n",
              "      <th>Marital Status</th>\n",
              "      <td>Never-married</td>\n",
              "    </tr>\n",
              "    <tr>\n",
              "      <th>Occupation</th>\n",
              "      <td>Craft-repair</td>\n",
              "    </tr>\n",
              "    <tr>\n",
              "      <th>Relationship</th>\n",
              "      <td>Unmarried</td>\n",
              "    </tr>\n",
              "    <tr>\n",
              "      <th>Race</th>\n",
              "      <td>White</td>\n",
              "    </tr>\n",
              "    <tr>\n",
              "      <th>Sex</th>\n",
              "      <td>Male</td>\n",
              "    </tr>\n",
              "    <tr>\n",
              "      <th>Capital Gain</th>\n",
              "      <td>0</td>\n",
              "    </tr>\n",
              "    <tr>\n",
              "      <th>Capital Loss</th>\n",
              "      <td>0</td>\n",
              "    </tr>\n",
              "    <tr>\n",
              "      <th>Hours per week</th>\n",
              "      <td>40</td>\n",
              "    </tr>\n",
              "    <tr>\n",
              "      <th>Country</th>\n",
              "      <td>United-States</td>\n",
              "    </tr>\n",
              "    <tr>\n",
              "      <th>Target</th>\n",
              "      <td>&lt;=50K</td>\n",
              "    </tr>\n",
              "  </tbody>\n",
              "</table>\n",
              "</div><br><label><b>dtype:</b> object</label>"
            ]
          },
          "metadata": {},
          "execution_count": 37
        }
      ]
    },
    {
      "cell_type": "code",
      "execution_count": 33,
      "id": "a1c465bc-2275-44d5-a0a7-625a18d8b666",
      "metadata": {
        "id": "a1c465bc-2275-44d5-a0a7-625a18d8b666"
      },
      "outputs": [],
      "source": [
        "McCloughlin_row = get_McCloughlin_row()"
      ]
    },
    {
      "cell_type": "code",
      "execution_count": 35,
      "id": "add868a4-2304-4521-afd4-18e7f3108522",
      "metadata": {
        "id": "add868a4-2304-4521-afd4-18e7f3108522"
      },
      "outputs": [],
      "source": [
        "#assert len(McCloughlin_row) == 1\n",
        "#assert McCloughlin_row['SSN'].iloc[0] == '718-79-8158'"
      ]
    },
    {
      "cell_type": "markdown",
      "id": "877c9491-f3e2-4f13-a6a1-4fe2bd137c27",
      "metadata": {
        "id": "877c9491-f3e2-4f13-a6a1-4fe2bd137c27"
      },
      "source": [
        "**Question 5** [2 pts]:  À l'aide de l'enregistrement `McCloughlin_row`, récuper les quasi-identifiants `Zip`, `Age` et `Sex` de `Faith McCloughlin`."
      ]
    },
    {
      "cell_type": "code",
      "source": [
        "liste_Zip_Age_Sex = McCloughlin_row[['Zip','Age','Sex']].tolist()\n",
        "#liste_Zip_Age_Sex\n",
        "\n",
        "print(f'son Zip:{liste_Zip_Age_Sex[0]}; son age:{liste_Zip_Age_Sex[1]}; son sex: {liste_Zip_Age_Sex[2]}')"
      ],
      "metadata": {
        "colab": {
          "base_uri": "https://localhost:8080/"
        },
        "id": "9t0_rVp2T_FG",
        "outputId": "9a47fba6-8cf0-48f0-a428-db187e04f395"
      },
      "id": "9t0_rVp2T_FG",
      "execution_count": 41,
      "outputs": [
        {
          "output_type": "stream",
          "name": "stdout",
          "text": [
            "son Zip:41277; son age:30; son sex: Male\n"
          ]
        }
      ]
    },
    {
      "cell_type": "markdown",
      "id": "0a940873-8426-4b6a-894b-b58b5532eb71",
      "metadata": {
        "id": "0a940873-8426-4b6a-894b-b58b5532eb71"
      },
      "source": [
        "**Question 6** [5 pts]:  En utilisant ces quasi-identifiants, effectuer une attaque de `ré-identification` de `Faith McCloughlin` à partir du jeu de données dépersonalisé `Faith McCloughlin`."
      ]
    },
    {
      "cell_type": "markdown",
      "source": [
        "L'attaque de ré-identification est une enace significative pour la protection des données personnelles) va consister à reconstruire l'identité des individus du jeu de données  à  partir des données qui étaient supposées anonymiser."
      ],
      "metadata": {
        "id": "XJboUD59n5e5"
      },
      "id": "XJboUD59n5e5"
    },
    {
      "cell_type": "code",
      "source": [
        "jeuDonneeesDepersonnaliser = depersonaliser_adult()\n",
        "#jeuDonneeesDepersonnaliser\n"
      ],
      "metadata": {
        "id": "pKlCB0QE8p_I"
      },
      "id": "pKlCB0QE8p_I",
      "execution_count": 53,
      "outputs": []
    },
    {
      "cell_type": "code",
      "execution_count": 54,
      "id": "84b862c2-0db4-4829-93e1-2f3e2d2c39f8",
      "metadata": {
        "id": "84b862c2-0db4-4829-93e1-2f3e2d2c39f8"
      },
      "outputs": [],
      "source": [
        "def recover_McCloughlin_row():\n",
        "    # VOTRE CODE ICI\n",
        "    # chargeons le jeu de données depersonnaliser\n",
        "    JeuDonneeesDepersonnaliser = depersonaliser_adult()\n",
        "    # Filtrer les enregistrements corresponds simultanément aux quasi-identifiants de Faith McCloughlin\n",
        "    Zip_faith = 41277\n",
        "    age_faith = 30\n",
        "    sex_faith = 'Male'\n",
        "    # filtrer le jeu de données depersonnaliser pour trouver la ligne correspondante à Faith McCloughlin\n",
        "    for index, valeur in JeuDonneeesDepersonnaliser.iterrows():\n",
        "      if(valeur['Zip']==Zip_faith and valeur['Age']==age_faith and valeur['Sex']==sex_faith):\n",
        "        return valeur\n",
        "    return None\n",
        ""
      ]
    },
    {
      "cell_type": "code",
      "source": [
        "recover_McCloughlin_row()"
      ],
      "metadata": {
        "colab": {
          "base_uri": "https://localhost:8080/",
          "height": 649
        },
        "id": "paFMUoDwA8ox",
        "outputId": "742b7fcd-c4cf-4564-fb07-204b57d3c4e7"
      },
      "id": "paFMUoDwA8ox",
      "execution_count": 55,
      "outputs": [
        {
          "output_type": "execute_result",
          "data": {
            "text/plain": [
              "DOB                  12/25/1984\n",
              "SSN                 718-79-8158\n",
              "Zip                       41277\n",
              "Age                          30\n",
              "Workclass               Private\n",
              "fnlwgt                   132565\n",
              "Education          Some-college\n",
              "Education-Num                10\n",
              "Marital Status    Never-married\n",
              "Occupation         Craft-repair\n",
              "Relationship          Unmarried\n",
              "Race                      White\n",
              "Sex                        Male\n",
              "Capital Gain                  0\n",
              "Capital Loss                  0\n",
              "Hours per week               40\n",
              "Country           United-States\n",
              "Target                    <=50K\n",
              "Name: 11019, dtype: object"
            ],
            "text/html": [
              "<div>\n",
              "<style scoped>\n",
              "    .dataframe tbody tr th:only-of-type {\n",
              "        vertical-align: middle;\n",
              "    }\n",
              "\n",
              "    .dataframe tbody tr th {\n",
              "        vertical-align: top;\n",
              "    }\n",
              "\n",
              "    .dataframe thead th {\n",
              "        text-align: right;\n",
              "    }\n",
              "</style>\n",
              "<table border=\"1\" class=\"dataframe\">\n",
              "  <thead>\n",
              "    <tr style=\"text-align: right;\">\n",
              "      <th></th>\n",
              "      <th>11019</th>\n",
              "    </tr>\n",
              "  </thead>\n",
              "  <tbody>\n",
              "    <tr>\n",
              "      <th>DOB</th>\n",
              "      <td>12/25/1984</td>\n",
              "    </tr>\n",
              "    <tr>\n",
              "      <th>SSN</th>\n",
              "      <td>718-79-8158</td>\n",
              "    </tr>\n",
              "    <tr>\n",
              "      <th>Zip</th>\n",
              "      <td>41277</td>\n",
              "    </tr>\n",
              "    <tr>\n",
              "      <th>Age</th>\n",
              "      <td>30</td>\n",
              "    </tr>\n",
              "    <tr>\n",
              "      <th>Workclass</th>\n",
              "      <td>Private</td>\n",
              "    </tr>\n",
              "    <tr>\n",
              "      <th>fnlwgt</th>\n",
              "      <td>132565</td>\n",
              "    </tr>\n",
              "    <tr>\n",
              "      <th>Education</th>\n",
              "      <td>Some-college</td>\n",
              "    </tr>\n",
              "    <tr>\n",
              "      <th>Education-Num</th>\n",
              "      <td>10</td>\n",
              "    </tr>\n",
              "    <tr>\n",
              "      <th>Marital Status</th>\n",
              "      <td>Never-married</td>\n",
              "    </tr>\n",
              "    <tr>\n",
              "      <th>Occupation</th>\n",
              "      <td>Craft-repair</td>\n",
              "    </tr>\n",
              "    <tr>\n",
              "      <th>Relationship</th>\n",
              "      <td>Unmarried</td>\n",
              "    </tr>\n",
              "    <tr>\n",
              "      <th>Race</th>\n",
              "      <td>White</td>\n",
              "    </tr>\n",
              "    <tr>\n",
              "      <th>Sex</th>\n",
              "      <td>Male</td>\n",
              "    </tr>\n",
              "    <tr>\n",
              "      <th>Capital Gain</th>\n",
              "      <td>0</td>\n",
              "    </tr>\n",
              "    <tr>\n",
              "      <th>Capital Loss</th>\n",
              "      <td>0</td>\n",
              "    </tr>\n",
              "    <tr>\n",
              "      <th>Hours per week</th>\n",
              "      <td>40</td>\n",
              "    </tr>\n",
              "    <tr>\n",
              "      <th>Country</th>\n",
              "      <td>United-States</td>\n",
              "    </tr>\n",
              "    <tr>\n",
              "      <th>Target</th>\n",
              "      <td>&lt;=50K</td>\n",
              "    </tr>\n",
              "  </tbody>\n",
              "</table>\n",
              "</div><br><label><b>dtype:</b> object</label>"
            ]
          },
          "metadata": {},
          "execution_count": 55
        }
      ]
    },
    {
      "cell_type": "code",
      "execution_count": 42,
      "id": "e596519a-a287-4d52-8e04-4f703a5ddc5a",
      "metadata": {
        "id": "e596519a-a287-4d52-8e04-4f703a5ddc5a"
      },
      "outputs": [],
      "source": [
        "McCloughlin_recovered_row = recover_McCloughlin_row()"
      ]
    },
    {
      "cell_type": "markdown",
      "id": "97686fff-c691-402b-81ff-70d53944f0c5",
      "metadata": {
        "id": "97686fff-c691-402b-81ff-70d53944f0c5"
      },
      "source": [
        "**Question 7** [2 pts]:  Montrer que la connaissance du `Zip` suffit pour ré-identifier `Faith McCloughlin`"
      ]
    },
    {
      "cell_type": "code",
      "source": [
        "# filtrons le jeu de données depersonnaliser uniquement sur le zip de Faith McCloughlin pour voir si nous le retrouvons\n",
        "# chargeons le jeu de données depersonnaliser\n",
        "JeuDonneeesDepersonnaliser = depersonaliser_adult()\n",
        " # Filtrer les enregistrements uniquement sur quasi-identifiants  Zip de Faith McCloughlin et verifions s'il retourne uniquement Faith McCloughlin\n",
        "merlin = JeuDonneeesDepersonnaliser['Zip']\n",
        "JeuDonneeesDepersonnaliser.dtypes # permet de connaitre le type de chaque colonne\n",
        "merlin.dtype\n"
      ],
      "metadata": {
        "colab": {
          "base_uri": "https://localhost:8080/"
        },
        "id": "CSiPEzXXG258",
        "outputId": "2bfe1569-dd55-4cf8-bc60-122feb3d3045"
      },
      "id": "CSiPEzXXG258",
      "execution_count": 64,
      "outputs": [
        {
          "output_type": "execute_result",
          "data": {
            "text/plain": [
              "dtype('int64')"
            ]
          },
          "metadata": {},
          "execution_count": 64
        }
      ]
    },
    {
      "cell_type": "code",
      "source": [
        "# filtrons le jeu de données depersonnaliser uniquement sur le zip de Faith McCloughlin pour voir si nous le retrouvons\n",
        "\n",
        "# chargeons le jeu de données depersonnaliser\n",
        "JeuDonneeesDepersonnaliser = depersonaliser_adult()\n",
        "\n",
        "\n",
        "  # définissons les critères de recherche, il sera basé uniquemnt sur le zip de Faith McCloughlin\n",
        "\n",
        "critere_reherche = {\n",
        "        'Zip':41277\n",
        "    }\n",
        "# Filtrer les enregistrements uniquement sur quasi-identifiants  Zip de Faith McCloughlin et verifions s'il retourne uniquement Faith McCloughlin\n",
        "\n",
        "Taille = JeuDonneeesDepersonnaliser.shape  # retourne le nombre de ligne et de colonne\n",
        "type(Taille)\n",
        "\n"
      ],
      "metadata": {
        "colab": {
          "base_uri": "https://localhost:8080/"
        },
        "id": "NzNwR6B1LOPf",
        "outputId": "11cf6208-1fdc-4cd7-ac83-fa5506051d82"
      },
      "id": "NzNwR6B1LOPf",
      "execution_count": 76,
      "outputs": [
        {
          "output_type": "execute_result",
          "data": {
            "text/plain": [
              "tuple"
            ]
          },
          "metadata": {},
          "execution_count": 76
        }
      ]
    },
    {
      "cell_type": "markdown",
      "id": "1b1da2ed-221b-4f8c-a491-398994e321b6",
      "metadata": {
        "id": "1b1da2ed-221b-4f8c-a491-398994e321b6"
      },
      "source": [
        "**Question 8** [4 pts]:  Peut-on dire la même chose de l'attribut `Age`? Même question pour l'attribut `Sex`."
      ]
    },
    {
      "cell_type": "markdown",
      "id": "78f66211-d03f-406e-b0a3-0233353aaba4",
      "metadata": {
        "id": "78f66211-d03f-406e-b0a3-0233353aaba4"
      },
      "source": [
        "**Question 9** [2 pts]:  Combien de personnes peut-on réidentifier de manière unique avec la connaissance de l'attribut `Zip`? Même question pour l'attribut `DOB`."
      ]
    },
    {
      "cell_type": "markdown",
      "id": "7b0c6545-0cc4-4988-ac68-babd3dd7c557",
      "metadata": {
        "id": "7b0c6545-0cc4-4988-ac68-babd3dd7c557"
      },
      "source": [
        "**Question 10** [4 pts]:  Combien de personnes de personnes peut-on réidentifier avec une chance de 1/2 (resp. 1/3) avec la connaissance de l'attribut `Zip`? Même question pour l'attribut `DOB`"
      ]
    },
    {
      "cell_type": "markdown",
      "id": "bb5b9acd-24d2-4d6a-a6ec-16bbee8f1312",
      "metadata": {
        "tags": [],
        "id": "bb5b9acd-24d2-4d6a-a6ec-16bbee8f1312"
      },
      "source": [
        "## Partie 2: Attaques ciblant un jeu de données aggrégées (25 pts)\n",
        "La partie 1 montre que les jeux de données dépersonnalisés peuvent être problématique car ils permettent avec très peu d'information de réidentifier des personnes concernées.\n",
        "Dans cette partie, on s'intéresse à ce que les données aggrégées peuvent révéler sur les individus contenu dans les jeux de données originaux."
      ]
    },
    {
      "cell_type": "markdown",
      "id": "d496b313-2d55-4cd7-a1ea-fb513956f7b8",
      "metadata": {
        "id": "d496b313-2d55-4cd7-a1ea-fb513956f7b8"
      },
      "source": [
        "### Problème des petits groupes"
      ]
    },
    {
      "cell_type": "markdown",
      "id": "0bc8dfb2-0244-4f3f-a420-3fd564518767",
      "metadata": {
        "id": "0bc8dfb2-0244-4f3f-a420-3fd564518767"
      },
      "source": [
        "**Question 11** [2 pts]: À l'aide de la fonction `mean`, calculer l'âge moyen des individus contenus dans le jeu de données `adult`."
      ]
    },
    {
      "cell_type": "markdown",
      "id": "f42e0c4f-6d95-46aa-937a-b0d4b217c01f",
      "metadata": {
        "id": "f42e0c4f-6d95-46aa-937a-b0d4b217c01f"
      },
      "source": [
        "**Question 12** [2 pts]: À l'aide des fonctions `mean` et `groupby`, calculer l'âge moyen *groupé par pays* des individus contenus dans le jeu de données `adult`."
      ]
    },
    {
      "cell_type": "markdown",
      "id": "3316918c-7c5c-468d-b75f-40468e366e9d",
      "metadata": {
        "id": "3316918c-7c5c-468d-b75f-40468e366e9d"
      },
      "source": [
        "**Question 13** [2 pts]: À l'aide de la fonction `value_counts`, montrer les statistiques du nombre de personnes par pays du jeu de données `adult`."
      ]
    },
    {
      "cell_type": "markdown",
      "id": "55b4d297-0938-4c49-bc7f-e57648798054",
      "metadata": {
        "id": "55b4d297-0938-4c49-bc7f-e57648798054"
      },
      "source": [
        "**Question 14** [5 pts]:  Que peut-on déduire de l'âge d'une certaine personne originaire des Pays-bas ?"
      ]
    },
    {
      "cell_type": "markdown",
      "id": "7ff9c2f3-472f-49f7-ac41-09d86973d470",
      "metadata": {
        "id": "7ff9c2f3-472f-49f7-ac41-09d86973d470"
      },
      "source": [
        "### Attaques de différenciation"
      ]
    },
    {
      "cell_type": "markdown",
      "id": "e3572225-f57d-471c-ad5f-2f9472c12fec",
      "metadata": {
        "id": "e3572225-f57d-471c-ad5f-2f9472c12fec"
      },
      "source": [
        "Supposons maintenant que les données agrégées sont publiées chaque années et que le jeu de donnée `adult` contient les enregistrements de l'année courrante."
      ]
    },
    {
      "cell_type": "markdown",
      "id": "37fb9d6e-5121-4814-a831-6eaab181e44c",
      "metadata": {
        "id": "37fb9d6e-5121-4814-a831-6eaab181e44c"
      },
      "source": [
        "**Question 15** [2 pts]: À l'aide de la fonction `sum` calculer la somme des heures de travail (`Hours per week`) des individus contenus dans le jeu de données `adult` pour l'année courante."
      ]
    },
    {
      "cell_type": "markdown",
      "id": "e8f3f5ea-4743-4c67-8e9d-2de6960479d7",
      "metadata": {
        "id": "e8f3f5ea-4743-4c67-8e9d-2de6960479d7"
      },
      "source": [
        "**Question 16** [2 pts]: Sachant que seulement `Faith McCloughlin` a été ajouté au jeu de données cette année, calculer la somme des heures de travail des individus contenus dans le jeu de données `adult` l'année précédente."
      ]
    },
    {
      "cell_type": "markdown",
      "id": "aad82e60-f38b-4c5c-92c6-8502d2ebe310",
      "metadata": {
        "id": "aad82e60-f38b-4c5c-92c6-8502d2ebe310"
      },
      "source": [
        "**Question 17** [5 pts]: Déduire le nombre d'heures de travail de `Faith McCloughlin`"
      ]
    },
    {
      "cell_type": "markdown",
      "id": "02d115c2-6809-48e6-9fd4-4e63097d2526",
      "metadata": {
        "id": "02d115c2-6809-48e6-9fd4-4e63097d2526"
      },
      "source": [
        "**Question 18** [5 pts]: Proposer une méthode pour déduire le nombre d'heures de travail si au lieu de la `somme des heures de travail`, c'est la `moyenne des heures de travail` qui est publiée chaque année."
      ]
    },
    {
      "cell_type": "markdown",
      "id": "295d36b2-049a-4009-b920-4ccbafe8d0d1",
      "metadata": {
        "id": "295d36b2-049a-4009-b920-4ccbafe8d0d1"
      },
      "source": [
        "## Partie 3: Anonymat (39 pts)\n"
      ]
    },
    {
      "cell_type": "markdown",
      "id": "30bc3d7b-7ef4-4507-9d0e-0464cc2780d5",
      "metadata": {
        "id": "30bc3d7b-7ef4-4507-9d0e-0464cc2780d5"
      },
      "source": [
        "Pour cette partie on utilisera le jeu de donnée suivant:"
      ]
    },
    {
      "cell_type": "code",
      "execution_count": null,
      "id": "a1629bd9-80b7-46c4-9a10-2d2a9fedf924",
      "metadata": {
        "id": "a1629bd9-80b7-46c4-9a10-2d2a9fedf924"
      },
      "outputs": [],
      "source": [
        "# importation du jeux de données\n",
        "adult_df = pd.read_csv('https://github.com/tisl-lab/data-privacy-class/blob/main/data/adult_small.csv?raw=true')"
      ]
    },
    {
      "cell_type": "markdown",
      "id": "1ff18a6a-172c-422d-9291-433c27d6fdce",
      "metadata": {
        "id": "1ff18a6a-172c-422d-9291-433c27d6fdce"
      },
      "source": [
        "**Question 19** [3 pts]: Expliquer en trois ou quatre phrases un algorithme pouvant vérifier étant donné un jeu de données `D`, une liste `QIDs` de quasi-identifiants et un paramètre `k` que `D` est **k-anonymisé**"
      ]
    },
    {
      "cell_type": "markdown",
      "id": "d4476138-6d94-4d2b-849b-53d1c381e6d5",
      "metadata": {
        "id": "d4476138-6d94-4d2b-849b-53d1c381e6d5"
      },
      "source": [
        "**Question 20** [5 pts]: Proposer une implémentation de cet algorithme qui devra prendre en entrée un dataframe `df`, une liste de quasi-identifiant `QIDs` et le paramètre de k-anonymat `k`."
      ]
    },
    {
      "cell_type": "markdown",
      "id": "ade1a88b-62fc-4c71-9fd4-a882931ae467",
      "metadata": {
        "id": "ade1a88b-62fc-4c71-9fd4-a882931ae467"
      },
      "source": [
        "**Question 21** [2 pts]: Est-ce que ce le jeu de données `adult_df` satisfait le 2-anonymat pour QIDs = `[\"Sex\", \"Race\"]`?"
      ]
    },
    {
      "cell_type": "markdown",
      "id": "0e3de5b1-57a8-4491-acba-c93088655957",
      "metadata": {
        "id": "0e3de5b1-57a8-4491-acba-c93088655957"
      },
      "source": [
        "**Question 22** [3 pts]: Donner la liste des pairs de quasi-identifiants pour lesquels `adult_df` satisfait le 2-anonymat."
      ]
    },
    {
      "cell_type": "markdown",
      "id": "afbaaa68-e9f4-4d58-a85a-1125ef47e487",
      "metadata": {
        "id": "afbaaa68-e9f4-4d58-a85a-1125ef47e487"
      },
      "source": [
        "**Question 23** [3 pts]: Donner la liste des pairs de quasi-identifiants pour lesquels `adult_df` satisfait le 5-anonymat."
      ]
    },
    {
      "cell_type": "markdown",
      "id": "841f41de-8b85-42ce-bcf4-d8daeaade1e5",
      "metadata": {
        "id": "841f41de-8b85-42ce-bcf4-d8daeaade1e5"
      },
      "source": [
        "**Question 24** [3 pts]: Donner la liste des triplets de quasi-identifiants pour lesquels `adult_df` satisfait le 2-anonymat."
      ]
    },
    {
      "cell_type": "markdown",
      "id": "8cb74d89-0981-490d-b682-cb8a30bc1d56",
      "metadata": {
        "id": "8cb74d89-0981-490d-b682-cb8a30bc1d56"
      },
      "source": [
        "**Question 25** [3 pts]: Expliquer en trois ou quatre phrases comment l'algorithme précédent pourrait être modifié pour vérifier qu'un jeu de données anonymisé satisfait la **l-diversité** pour un attribut sensible `s`."
      ]
    },
    {
      "cell_type": "markdown",
      "id": "84727c2f-e1aa-4ba6-aec3-1246b6f33db4",
      "metadata": {
        "id": "84727c2f-e1aa-4ba6-aec3-1246b6f33db4"
      },
      "source": [
        "**Question 26** [5 pts]: Proposer une implémentation de cet algorithme qui devra prendre en entrée un dataframe `df`, une liste de quasi-identifiant `QIDs`, un attribut sensible `s`, le paramètre de k-anonymat `k` et le paramètre de l-diversité `l`."
      ]
    },
    {
      "cell_type": "markdown",
      "id": "9ec869e2-3491-4be3-a1f1-bddcabd65e57",
      "metadata": {
        "id": "9ec869e2-3491-4be3-a1f1-bddcabd65e57"
      },
      "source": [
        "**Question 27** [2 pts]:  Est-ce que ce le jeu de données `adult_df` satisfait au 3-anonymat pour QIDs = `[\"Sex\", \"Race\"]` et à la 2-diversité pour l'attribut `Occupation`?"
      ]
    },
    {
      "cell_type": "markdown",
      "id": "6e43979a-7cbd-403f-8c75-eca4de816d84",
      "metadata": {
        "id": "6e43979a-7cbd-403f-8c75-eca4de816d84"
      },
      "source": [
        "**Question 28** [5 pts]:  Étant donné le jeu de données `adult_df` qui satisfait le 3-anonymat pour QIDs = `[\"Sex\", \"Race\"]`, parmi les attributs `[\"Age\", \"Workclass\", \"Relationship\", \"Country\"]`, lesquels pourraient permettre une attaque d'homogénéité s'ils étaient publiés comme attributs sensibles?"
      ]
    },
    {
      "cell_type": "markdown",
      "id": "e927f702-0f8c-4201-acd1-b7d40de4f942",
      "metadata": {
        "id": "e927f702-0f8c-4201-acd1-b7d40de4f942"
      },
      "source": [
        "**Question 29** [5 pts]: Proposer un algorithme pour généraliser l'attribut `Zip` en transformant les `n` derniers chiffres en `0`. Votre algorithme devra retourner la version transformée du jeu de données."
      ]
    }
  ],
  "metadata": {
    "kernelspec": {
      "display_name": "Python 3",
      "language": "python",
      "name": "python3"
    },
    "language_info": {
      "codemirror_mode": {
        "name": "ipython",
        "version": 3
      },
      "file_extension": ".py",
      "mimetype": "text/x-python",
      "name": "python",
      "nbconvert_exporter": "python",
      "pygments_lexer": "ipython3",
      "version": "3.13.1"
    },
    "colab": {
      "provenance": [],
      "toc_visible": true,
      "include_colab_link": true
    }
  },
  "nbformat": 4,
  "nbformat_minor": 5
}